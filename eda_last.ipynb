{
 "cells": [
  {
   "cell_type": "code",
   "execution_count": 99,
   "metadata": {},
   "outputs": [],
   "source": [
    "import numpy as np\n",
    "import pandas as pd\n",
    "\n",
    "import matplotlib.pyplot as plt\n",
    "import seaborn as sns"
   ]
  },
  {
   "cell_type": "code",
   "execution_count": 45,
   "metadata": {},
   "outputs": [
    {
     "name": "stdout",
     "output_type": "stream",
     "text": [
      "<class 'pandas.core.frame.DataFrame'>\n",
      "Index: 43972 entries, 0 to 47076\n",
      "Data columns (total 14 columns):\n",
      " #   Column          Non-Null Count  Dtype  \n",
      "---  ------          --------------  -----  \n",
      " 0   Unnamed: 0      43972 non-null  int64  \n",
      " 1   LOCATION        43972 non-null  object \n",
      " 2   Country         43972 non-null  object \n",
      " 3   SUBJECT         43972 non-null  object \n",
      " 4   Subject         43972 non-null  object \n",
      " 5   MEASURE         43972 non-null  object \n",
      " 6   Measure         43972 non-null  object \n",
      " 7   TIME            43972 non-null  int64  \n",
      " 8   Time            43972 non-null  int64  \n",
      " 9   Unit Code       43972 non-null  object \n",
      " 10  Unit            43972 non-null  object \n",
      " 11  PowerCode Code  43972 non-null  int64  \n",
      " 12  PowerCode       43972 non-null  object \n",
      " 13  Value           43972 non-null  float64\n",
      "dtypes: float64(1), int64(4), object(9)\n",
      "memory usage: 5.0+ MB\n"
     ]
    }
   ],
   "source": [
    "total_emp = pd.read_csv('./total_emp.csv', index_col=0)\n",
    "total_emp.info()"
   ]
  },
  {
   "cell_type": "code",
   "execution_count": 100,
   "metadata": {},
   "outputs": [],
   "source": [
    "del_columns =['Unnamed: 0', 'LOCATION', 'MEASURE', 'TIME', 'PowerCode Code']\n",
    "data = total_emp.drop(columns=del_columns)"
   ]
  },
  {
   "cell_type": "code",
   "execution_count": 101,
   "metadata": {},
   "outputs": [
    {
     "name": "stdout",
     "output_type": "stream",
     "text": [
      "<class 'pandas.core.frame.DataFrame'>\n",
      "Index: 43972 entries, 0 to 47076\n",
      "Data columns (total 9 columns):\n",
      " #   Column     Non-Null Count  Dtype  \n",
      "---  ------     --------------  -----  \n",
      " 0   Country    43972 non-null  object \n",
      " 1   SUBJECT    43972 non-null  object \n",
      " 2   Subject    43972 non-null  object \n",
      " 3   Measure    43972 non-null  object \n",
      " 4   Time       43972 non-null  int64  \n",
      " 5   Unit Code  43972 non-null  object \n",
      " 6   Unit       43972 non-null  object \n",
      " 7   PowerCode  43972 non-null  object \n",
      " 8   Value      43972 non-null  float64\n",
      "dtypes: float64(1), int64(1), object(7)\n",
      "memory usage: 4.4+ MB\n"
     ]
    }
   ],
   "source": [
    "data.info()"
   ]
  },
  {
   "cell_type": "code",
   "execution_count": 102,
   "metadata": {},
   "outputs": [
    {
     "data": {
      "text/plain": [
       "array(['Gross Domestic Product (GDP); millions',\n",
       "       'GDP per head of population', 'GDP per hour worked',\n",
       "       'GDP per person employed',\n",
       "       'Hours worked for total employment; millions',\n",
       "       'Gap in GDP per hour worked with respect to the USA',\n",
       "       'Total population; persons; thousands',\n",
       "       'Gap in GDP per capita with respect to the USA',\n",
       "       'Total employment (number of persons employed); thousands',\n",
       "       'Gap in labour utilisation with respect to the USA',\n",
       "       'Average hours worked per person employed'], dtype=object)"
      ]
     },
     "execution_count": 102,
     "metadata": {},
     "output_type": "execute_result"
    }
   ],
   "source": [
    "data['Subject'].unique()"
   ]
  },
  {
   "cell_type": "code",
   "execution_count": 103,
   "metadata": {},
   "outputs": [],
   "source": [
    "values_to_exclude = ['Gross Domestic Product (GDP); millions',\n",
    "       'GDP per head of population', 'GDP per hour worked','Hours worked for total employment; millions',\n",
    "       'Gap in GDP per hour worked with respect to the USA',\n",
    "       'Total population; persons; thousands',\n",
    "       'Gap in GDP per capita with respect to the USA',\n",
    "       'Total employment (number of persons employed); thousands',\n",
    "       'Gap in labour utilisation with respect to the USA']\n",
    "data = data.drop(data[data['Subject'].isin(values_to_exclude)].index)\n"
   ]
  },
  {
   "cell_type": "code",
   "execution_count": 104,
   "metadata": {},
   "outputs": [
    {
     "data": {
      "text/plain": [
       "array(['Australia', 'Austria', 'Belgium', 'Canada', 'Czech Republic',\n",
       "       'Denmark', 'Finland', 'France', 'Germany', 'Greece', 'Hungary',\n",
       "       'Iceland', 'Ireland', 'Italy', 'Japan', 'Korea', 'Luxembourg',\n",
       "       'Mexico', 'Netherlands', 'New Zealand', 'Norway', 'Poland',\n",
       "       'Portugal', 'Slovak Republic', 'Spain', 'Sweden', 'Switzerland',\n",
       "       'Türkiye', 'United Kingdom', 'United States', 'Brazil', 'Chile',\n",
       "       'China', 'Estonia', 'India', 'Indonesia', 'Israel', 'Russia',\n",
       "       'Slovenia', 'South Africa', 'Colombia', 'Latvia', 'Lithuania',\n",
       "       'Costa Rica'], dtype=object)"
      ]
     },
     "execution_count": 104,
     "metadata": {},
     "output_type": "execute_result"
    }
   ],
   "source": [
    "data['Country'].unique()"
   ]
  },
  {
   "cell_type": "markdown",
   "metadata": {},
   "source": [
    "## Voy a eliminar China pues tiene datos de GDP pero no tiene datos de horas de trabajo."
   ]
  },
  {
   "cell_type": "code",
   "execution_count": 109,
   "metadata": {},
   "outputs": [],
   "source": [
    "data = data.drop(data[data['Country'].isin(['China'])].index)"
   ]
  },
  {
   "cell_type": "code",
   "execution_count": 110,
   "metadata": {},
   "outputs": [
    {
     "data": {
      "text/html": [
       "<div>\n",
       "<style scoped>\n",
       "    .dataframe tbody tr th:only-of-type {\n",
       "        vertical-align: middle;\n",
       "    }\n",
       "\n",
       "    .dataframe tbody tr th {\n",
       "        vertical-align: top;\n",
       "    }\n",
       "\n",
       "    .dataframe thead th {\n",
       "        text-align: right;\n",
       "    }\n",
       "</style>\n",
       "<table border=\"1\" class=\"dataframe\">\n",
       "  <thead>\n",
       "    <tr style=\"text-align: right;\">\n",
       "      <th></th>\n",
       "      <th>Country</th>\n",
       "      <th>SUBJECT</th>\n",
       "      <th>Subject</th>\n",
       "      <th>Measure</th>\n",
       "      <th>Time</th>\n",
       "      <th>Unit Code</th>\n",
       "      <th>Unit</th>\n",
       "      <th>PowerCode</th>\n",
       "      <th>Value</th>\n",
       "    </tr>\n",
       "  </thead>\n",
       "  <tbody>\n",
       "    <tr>\n",
       "      <th>159</th>\n",
       "      <td>Australia</td>\n",
       "      <td>T_GDPEMP</td>\n",
       "      <td>GDP per person employed</td>\n",
       "      <td>National currency, current prices</td>\n",
       "      <td>1970</td>\n",
       "      <td>NATCUR</td>\n",
       "      <td>National currency</td>\n",
       "      <td>Units</td>\n",
       "      <td>7444.066954</td>\n",
       "    </tr>\n",
       "    <tr>\n",
       "      <th>160</th>\n",
       "      <td>Australia</td>\n",
       "      <td>T_GDPEMP</td>\n",
       "      <td>GDP per person employed</td>\n",
       "      <td>National currency, current prices</td>\n",
       "      <td>1971</td>\n",
       "      <td>NATCUR</td>\n",
       "      <td>National currency</td>\n",
       "      <td>Units</td>\n",
       "      <td>8024.614958</td>\n",
       "    </tr>\n",
       "    <tr>\n",
       "      <th>161</th>\n",
       "      <td>Australia</td>\n",
       "      <td>T_GDPEMP</td>\n",
       "      <td>GDP per person employed</td>\n",
       "      <td>National currency, current prices</td>\n",
       "      <td>1972</td>\n",
       "      <td>NATCUR</td>\n",
       "      <td>National currency</td>\n",
       "      <td>Units</td>\n",
       "      <td>8843.872308</td>\n",
       "    </tr>\n",
       "    <tr>\n",
       "      <th>162</th>\n",
       "      <td>Australia</td>\n",
       "      <td>T_GDPEMP</td>\n",
       "      <td>GDP per person employed</td>\n",
       "      <td>National currency, current prices</td>\n",
       "      <td>1973</td>\n",
       "      <td>NATCUR</td>\n",
       "      <td>National currency</td>\n",
       "      <td>Units</td>\n",
       "      <td>10431.103055</td>\n",
       "    </tr>\n",
       "    <tr>\n",
       "      <th>163</th>\n",
       "      <td>Australia</td>\n",
       "      <td>T_GDPEMP</td>\n",
       "      <td>GDP per person employed</td>\n",
       "      <td>National currency, current prices</td>\n",
       "      <td>1974</td>\n",
       "      <td>NATCUR</td>\n",
       "      <td>National currency</td>\n",
       "      <td>Units</td>\n",
       "      <td>12065.475216</td>\n",
       "    </tr>\n",
       "  </tbody>\n",
       "</table>\n",
       "</div>"
      ],
      "text/plain": [
       "       Country   SUBJECT                  Subject  \\\n",
       "159  Australia  T_GDPEMP  GDP per person employed   \n",
       "160  Australia  T_GDPEMP  GDP per person employed   \n",
       "161  Australia  T_GDPEMP  GDP per person employed   \n",
       "162  Australia  T_GDPEMP  GDP per person employed   \n",
       "163  Australia  T_GDPEMP  GDP per person employed   \n",
       "\n",
       "                               Measure  Time Unit Code               Unit  \\\n",
       "159  National currency, current prices  1970    NATCUR  National currency   \n",
       "160  National currency, current prices  1971    NATCUR  National currency   \n",
       "161  National currency, current prices  1972    NATCUR  National currency   \n",
       "162  National currency, current prices  1973    NATCUR  National currency   \n",
       "163  National currency, current prices  1974    NATCUR  National currency   \n",
       "\n",
       "    PowerCode         Value  \n",
       "159     Units   7444.066954  \n",
       "160     Units   8024.614958  \n",
       "161     Units   8843.872308  \n",
       "162     Units  10431.103055  \n",
       "163     Units  12065.475216  "
      ]
     },
     "execution_count": 110,
     "metadata": {},
     "output_type": "execute_result"
    }
   ],
   "source": [
    "data.head()"
   ]
  },
  {
   "cell_type": "code",
   "execution_count": 146,
   "metadata": {},
   "outputs": [
    {
     "data": {
      "text/plain": [
       "array(['Australia', 'Austria', 'Belgium', 'Canada', 'Czech Republic',\n",
       "       'Denmark', 'Finland', 'France', 'Germany', 'Greece', 'Hungary',\n",
       "       'Iceland', 'Ireland', 'Italy', 'Japan', 'Korea', 'Luxembourg',\n",
       "       'Mexico', 'Netherlands', 'New Zealand', 'Norway', 'Poland',\n",
       "       'Portugal', 'Slovak Republic', 'Spain', 'Sweden', 'Switzerland',\n",
       "       'Türkiye', 'United Kingdom', 'United States', 'Brazil', 'Chile',\n",
       "       'Estonia', 'India', 'Indonesia', 'Israel', 'Russia', 'Slovenia',\n",
       "       'South Africa', 'Colombia', 'Latvia', 'Lithuania', 'Costa Rica'],\n",
       "      dtype=object)"
      ]
     },
     "execution_count": 146,
     "metadata": {},
     "output_type": "execute_result"
    }
   ],
   "source": [
    "data['Country'].unique()"
   ]
  },
  {
   "cell_type": "markdown",
   "metadata": {},
   "source": [
    "## Para los 6 paises que tienen mejor gdp, tomando como cifra la media de los ultimos 50 años"
   ]
  },
  {
   "cell_type": "code",
   "execution_count": 115,
   "metadata": {},
   "outputs": [
    {
     "data": {
      "text/html": [
       "<div>\n",
       "<style scoped>\n",
       "    .dataframe tbody tr th:only-of-type {\n",
       "        vertical-align: middle;\n",
       "    }\n",
       "\n",
       "    .dataframe tbody tr th {\n",
       "        vertical-align: top;\n",
       "    }\n",
       "\n",
       "    .dataframe thead th {\n",
       "        text-align: right;\n",
       "    }\n",
       "</style>\n",
       "<table border=\"1\" class=\"dataframe\">\n",
       "  <thead>\n",
       "    <tr style=\"text-align: right;\">\n",
       "      <th></th>\n",
       "      <th>Country</th>\n",
       "      <th>SUBJECT</th>\n",
       "      <th>Subject</th>\n",
       "      <th>Measure</th>\n",
       "      <th>Time</th>\n",
       "      <th>Unit Code</th>\n",
       "      <th>Unit</th>\n",
       "      <th>PowerCode</th>\n",
       "      <th>Value</th>\n",
       "    </tr>\n",
       "  </thead>\n",
       "  <tbody>\n",
       "    <tr>\n",
       "      <th>9915</th>\n",
       "      <td>Ireland</td>\n",
       "      <td>T_GDPEMP</td>\n",
       "      <td>GDP per person employed</td>\n",
       "      <td>USD, constant prices, 2015 PPPs</td>\n",
       "      <td>2022</td>\n",
       "      <td>USD</td>\n",
       "      <td>US Dollar</td>\n",
       "      <td>Units</td>\n",
       "      <td>219137.22643</td>\n",
       "    </tr>\n",
       "    <tr>\n",
       "      <th>9914</th>\n",
       "      <td>Ireland</td>\n",
       "      <td>T_GDPEMP</td>\n",
       "      <td>GDP per person employed</td>\n",
       "      <td>USD, constant prices, 2015 PPPs</td>\n",
       "      <td>2021</td>\n",
       "      <td>USD</td>\n",
       "      <td>US Dollar</td>\n",
       "      <td>Units</td>\n",
       "      <td>208667.40053</td>\n",
       "    </tr>\n",
       "    <tr>\n",
       "      <th>9913</th>\n",
       "      <td>Ireland</td>\n",
       "      <td>T_GDPEMP</td>\n",
       "      <td>GDP per person employed</td>\n",
       "      <td>USD, constant prices, 2015 PPPs</td>\n",
       "      <td>2020</td>\n",
       "      <td>USD</td>\n",
       "      <td>US Dollar</td>\n",
       "      <td>Units</td>\n",
       "      <td>194803.70093</td>\n",
       "    </tr>\n",
       "    <tr>\n",
       "      <th>9912</th>\n",
       "      <td>Ireland</td>\n",
       "      <td>T_GDPEMP</td>\n",
       "      <td>GDP per person employed</td>\n",
       "      <td>USD, constant prices, 2015 PPPs</td>\n",
       "      <td>2019</td>\n",
       "      <td>USD</td>\n",
       "      <td>US Dollar</td>\n",
       "      <td>Units</td>\n",
       "      <td>178266.21618</td>\n",
       "    </tr>\n",
       "    <tr>\n",
       "      <th>9911</th>\n",
       "      <td>Ireland</td>\n",
       "      <td>T_GDPEMP</td>\n",
       "      <td>GDP per person employed</td>\n",
       "      <td>USD, constant prices, 2015 PPPs</td>\n",
       "      <td>2018</td>\n",
       "      <td>USD</td>\n",
       "      <td>US Dollar</td>\n",
       "      <td>Units</td>\n",
       "      <td>174075.80548</td>\n",
       "    </tr>\n",
       "  </tbody>\n",
       "</table>\n",
       "</div>"
      ],
      "text/plain": [
       "      Country   SUBJECT                  Subject  \\\n",
       "9915  Ireland  T_GDPEMP  GDP per person employed   \n",
       "9914  Ireland  T_GDPEMP  GDP per person employed   \n",
       "9913  Ireland  T_GDPEMP  GDP per person employed   \n",
       "9912  Ireland  T_GDPEMP  GDP per person employed   \n",
       "9911  Ireland  T_GDPEMP  GDP per person employed   \n",
       "\n",
       "                              Measure  Time Unit Code       Unit PowerCode  \\\n",
       "9915  USD, constant prices, 2015 PPPs  2022       USD  US Dollar     Units   \n",
       "9914  USD, constant prices, 2015 PPPs  2021       USD  US Dollar     Units   \n",
       "9913  USD, constant prices, 2015 PPPs  2020       USD  US Dollar     Units   \n",
       "9912  USD, constant prices, 2015 PPPs  2019       USD  US Dollar     Units   \n",
       "9911  USD, constant prices, 2015 PPPs  2018       USD  US Dollar     Units   \n",
       "\n",
       "             Value  \n",
       "9915  219137.22643  \n",
       "9914  208667.40053  \n",
       "9913  194803.70093  \n",
       "9912  178266.21618  \n",
       "9911  174075.80548  "
      ]
     },
     "execution_count": 115,
     "metadata": {},
     "output_type": "execute_result"
    }
   ],
   "source": [
    "data_gdp=data.loc[(data['SUBJECT']=='T_GDPEMP') & (data['Measure']=='USD, constant prices, 2015 PPPs')].sort_values(by='Value',ascending=False)\n",
    "data_gdp.head()"
   ]
  },
  {
   "cell_type": "code",
   "execution_count": 132,
   "metadata": {},
   "outputs": [
    {
     "data": {
      "text/html": [
       "<div>\n",
       "<style scoped>\n",
       "    .dataframe tbody tr th:only-of-type {\n",
       "        vertical-align: middle;\n",
       "    }\n",
       "\n",
       "    .dataframe tbody tr th {\n",
       "        vertical-align: top;\n",
       "    }\n",
       "\n",
       "    .dataframe thead th {\n",
       "        text-align: right;\n",
       "    }\n",
       "</style>\n",
       "<table border=\"1\" class=\"dataframe\">\n",
       "  <thead>\n",
       "    <tr style=\"text-align: right;\">\n",
       "      <th></th>\n",
       "      <th>Country</th>\n",
       "      <th>sum</th>\n",
       "      <th>mean</th>\n",
       "    </tr>\n",
       "  </thead>\n",
       "  <tbody>\n",
       "    <tr>\n",
       "      <th>26</th>\n",
       "      <td>Luxembourg</td>\n",
       "      <td>7.005171e+06</td>\n",
       "      <td>132173.028558</td>\n",
       "    </tr>\n",
       "    <tr>\n",
       "      <th>39</th>\n",
       "      <td>Switzerland</td>\n",
       "      <td>5.197874e+06</td>\n",
       "      <td>98073.093653</td>\n",
       "    </tr>\n",
       "    <tr>\n",
       "      <th>19</th>\n",
       "      <td>Ireland</td>\n",
       "      <td>5.095565e+06</td>\n",
       "      <td>96142.729073</td>\n",
       "    </tr>\n",
       "    <tr>\n",
       "      <th>30</th>\n",
       "      <td>Norway</td>\n",
       "      <td>4.964431e+06</td>\n",
       "      <td>93668.511385</td>\n",
       "    </tr>\n",
       "    <tr>\n",
       "      <th>42</th>\n",
       "      <td>United States</td>\n",
       "      <td>4.939513e+06</td>\n",
       "      <td>93198.360627</td>\n",
       "    </tr>\n",
       "    <tr>\n",
       "      <th>2</th>\n",
       "      <td>Belgium</td>\n",
       "      <td>4.791297e+06</td>\n",
       "      <td>90401.821526</td>\n",
       "    </tr>\n",
       "    <tr>\n",
       "      <th>1</th>\n",
       "      <td>Austria</td>\n",
       "      <td>4.043838e+06</td>\n",
       "      <td>86039.111943</td>\n",
       "    </tr>\n",
       "    <tr>\n",
       "      <th>21</th>\n",
       "      <td>Italy</td>\n",
       "      <td>4.392762e+06</td>\n",
       "      <td>82882.307160</td>\n",
       "    </tr>\n",
       "    <tr>\n",
       "      <th>12</th>\n",
       "      <td>France</td>\n",
       "      <td>4.297889e+06</td>\n",
       "      <td>81092.245146</td>\n",
       "    </tr>\n",
       "    <tr>\n",
       "      <th>28</th>\n",
       "      <td>Netherlands</td>\n",
       "      <td>4.289334e+06</td>\n",
       "      <td>80930.834870</td>\n",
       "    </tr>\n",
       "    <tr>\n",
       "      <th>9</th>\n",
       "      <td>Denmark</td>\n",
       "      <td>4.190562e+06</td>\n",
       "      <td>79067.199335</td>\n",
       "    </tr>\n",
       "    <tr>\n",
       "      <th>13</th>\n",
       "      <td>Germany</td>\n",
       "      <td>4.031703e+06</td>\n",
       "      <td>76069.869052</td>\n",
       "    </tr>\n",
       "    <tr>\n",
       "      <th>38</th>\n",
       "      <td>Sweden</td>\n",
       "      <td>3.991617e+06</td>\n",
       "      <td>75313.526759</td>\n",
       "    </tr>\n",
       "    <tr>\n",
       "      <th>0</th>\n",
       "      <td>Australia</td>\n",
       "      <td>3.971798e+06</td>\n",
       "      <td>74939.579685</td>\n",
       "    </tr>\n",
       "    <tr>\n",
       "      <th>4</th>\n",
       "      <td>Canada</td>\n",
       "      <td>3.914993e+06</td>\n",
       "      <td>73867.784641</td>\n",
       "    </tr>\n",
       "    <tr>\n",
       "      <th>37</th>\n",
       "      <td>Spain</td>\n",
       "      <td>3.822365e+06</td>\n",
       "      <td>72120.095246</td>\n",
       "    </tr>\n",
       "    <tr>\n",
       "      <th>11</th>\n",
       "      <td>Finland</td>\n",
       "      <td>3.779003e+06</td>\n",
       "      <td>71301.952247</td>\n",
       "    </tr>\n",
       "    <tr>\n",
       "      <th>41</th>\n",
       "      <td>United Kingdom</td>\n",
       "      <td>3.743883e+06</td>\n",
       "      <td>70639.310938</td>\n",
       "    </tr>\n",
       "    <tr>\n",
       "      <th>16</th>\n",
       "      <td>Iceland</td>\n",
       "      <td>3.728809e+06</td>\n",
       "      <td>70354.887639</td>\n",
       "    </tr>\n",
       "    <tr>\n",
       "      <th>20</th>\n",
       "      <td>Israel</td>\n",
       "      <td>2.835564e+06</td>\n",
       "      <td>67513.420153</td>\n",
       "    </tr>\n",
       "    <tr>\n",
       "      <th>14</th>\n",
       "      <td>Greece</td>\n",
       "      <td>2.635933e+06</td>\n",
       "      <td>65898.331152</td>\n",
       "    </tr>\n",
       "    <tr>\n",
       "      <th>35</th>\n",
       "      <td>Slovenia</td>\n",
       "      <td>1.765595e+06</td>\n",
       "      <td>63056.949485</td>\n",
       "    </tr>\n",
       "    <tr>\n",
       "      <th>22</th>\n",
       "      <td>Japan</td>\n",
       "      <td>3.304548e+06</td>\n",
       "      <td>62349.956689</td>\n",
       "    </tr>\n",
       "    <tr>\n",
       "      <th>29</th>\n",
       "      <td>New Zealand</td>\n",
       "      <td>3.193252e+06</td>\n",
       "      <td>60250.046551</td>\n",
       "    </tr>\n",
       "    <tr>\n",
       "      <th>34</th>\n",
       "      <td>Slovak Republic</td>\n",
       "      <td>1.693083e+06</td>\n",
       "      <td>58382.186625</td>\n",
       "    </tr>\n",
       "    <tr>\n",
       "      <th>8</th>\n",
       "      <td>Czech Republic</td>\n",
       "      <td>1.917827e+06</td>\n",
       "      <td>58115.958915</td>\n",
       "    </tr>\n",
       "    <tr>\n",
       "      <th>15</th>\n",
       "      <td>Hungary</td>\n",
       "      <td>1.737185e+06</td>\n",
       "      <td>54287.022485</td>\n",
       "    </tr>\n",
       "    <tr>\n",
       "      <th>32</th>\n",
       "      <td>Portugal</td>\n",
       "      <td>2.820840e+06</td>\n",
       "      <td>53223.400018</td>\n",
       "    </tr>\n",
       "    <tr>\n",
       "      <th>10</th>\n",
       "      <td>Estonia</td>\n",
       "      <td>1.565883e+06</td>\n",
       "      <td>52196.096043</td>\n",
       "    </tr>\n",
       "    <tr>\n",
       "      <th>31</th>\n",
       "      <td>Poland</td>\n",
       "      <td>1.611312e+06</td>\n",
       "      <td>51977.822455</td>\n",
       "    </tr>\n",
       "    <tr>\n",
       "      <th>25</th>\n",
       "      <td>Lithuania</td>\n",
       "      <td>1.428020e+06</td>\n",
       "      <td>51000.696663</td>\n",
       "    </tr>\n",
       "    <tr>\n",
       "      <th>40</th>\n",
       "      <td>Türkiye</td>\n",
       "      <td>2.677679e+06</td>\n",
       "      <td>50522.253725</td>\n",
       "    </tr>\n",
       "    <tr>\n",
       "      <th>24</th>\n",
       "      <td>Latvia</td>\n",
       "      <td>1.289771e+06</td>\n",
       "      <td>46063.266687</td>\n",
       "    </tr>\n",
       "    <tr>\n",
       "      <th>36</th>\n",
       "      <td>South Africa</td>\n",
       "      <td>2.286162e+06</td>\n",
       "      <td>43135.135924</td>\n",
       "    </tr>\n",
       "    <tr>\n",
       "      <th>27</th>\n",
       "      <td>Mexico</td>\n",
       "      <td>1.374025e+06</td>\n",
       "      <td>42938.273722</td>\n",
       "    </tr>\n",
       "    <tr>\n",
       "      <th>23</th>\n",
       "      <td>Korea</td>\n",
       "      <td>2.268117e+06</td>\n",
       "      <td>42794.656877</td>\n",
       "    </tr>\n",
       "    <tr>\n",
       "      <th>33</th>\n",
       "      <td>Russia</td>\n",
       "      <td>1.083097e+06</td>\n",
       "      <td>41657.560005</td>\n",
       "    </tr>\n",
       "    <tr>\n",
       "      <th>5</th>\n",
       "      <td>Chile</td>\n",
       "      <td>1.516214e+06</td>\n",
       "      <td>40978.748659</td>\n",
       "    </tr>\n",
       "    <tr>\n",
       "      <th>7</th>\n",
       "      <td>Costa Rica</td>\n",
       "      <td>1.177196e+06</td>\n",
       "      <td>36787.387687</td>\n",
       "    </tr>\n",
       "    <tr>\n",
       "      <th>3</th>\n",
       "      <td>Brazil</td>\n",
       "      <td>6.840184e+05</td>\n",
       "      <td>27360.737025</td>\n",
       "    </tr>\n",
       "    <tr>\n",
       "      <th>6</th>\n",
       "      <td>Colombia</td>\n",
       "      <td>1.223122e+06</td>\n",
       "      <td>25481.709964</td>\n",
       "    </tr>\n",
       "    <tr>\n",
       "      <th>18</th>\n",
       "      <td>Indonesia</td>\n",
       "      <td>5.848564e+05</td>\n",
       "      <td>17722.922718</td>\n",
       "    </tr>\n",
       "    <tr>\n",
       "      <th>17</th>\n",
       "      <td>India</td>\n",
       "      <td>2.972828e+05</td>\n",
       "      <td>11433.954184</td>\n",
       "    </tr>\n",
       "  </tbody>\n",
       "</table>\n",
       "</div>"
      ],
      "text/plain": [
       "            Country           sum           mean\n",
       "26       Luxembourg  7.005171e+06  132173.028558\n",
       "39      Switzerland  5.197874e+06   98073.093653\n",
       "19          Ireland  5.095565e+06   96142.729073\n",
       "30           Norway  4.964431e+06   93668.511385\n",
       "42    United States  4.939513e+06   93198.360627\n",
       "2           Belgium  4.791297e+06   90401.821526\n",
       "1           Austria  4.043838e+06   86039.111943\n",
       "21            Italy  4.392762e+06   82882.307160\n",
       "12           France  4.297889e+06   81092.245146\n",
       "28      Netherlands  4.289334e+06   80930.834870\n",
       "9           Denmark  4.190562e+06   79067.199335\n",
       "13          Germany  4.031703e+06   76069.869052\n",
       "38           Sweden  3.991617e+06   75313.526759\n",
       "0         Australia  3.971798e+06   74939.579685\n",
       "4            Canada  3.914993e+06   73867.784641\n",
       "37            Spain  3.822365e+06   72120.095246\n",
       "11          Finland  3.779003e+06   71301.952247\n",
       "41   United Kingdom  3.743883e+06   70639.310938\n",
       "16          Iceland  3.728809e+06   70354.887639\n",
       "20           Israel  2.835564e+06   67513.420153\n",
       "14           Greece  2.635933e+06   65898.331152\n",
       "35         Slovenia  1.765595e+06   63056.949485\n",
       "22            Japan  3.304548e+06   62349.956689\n",
       "29      New Zealand  3.193252e+06   60250.046551\n",
       "34  Slovak Republic  1.693083e+06   58382.186625\n",
       "8    Czech Republic  1.917827e+06   58115.958915\n",
       "15          Hungary  1.737185e+06   54287.022485\n",
       "32         Portugal  2.820840e+06   53223.400018\n",
       "10          Estonia  1.565883e+06   52196.096043\n",
       "31           Poland  1.611312e+06   51977.822455\n",
       "25        Lithuania  1.428020e+06   51000.696663\n",
       "40          Türkiye  2.677679e+06   50522.253725\n",
       "24           Latvia  1.289771e+06   46063.266687\n",
       "36     South Africa  2.286162e+06   43135.135924\n",
       "27           Mexico  1.374025e+06   42938.273722\n",
       "23            Korea  2.268117e+06   42794.656877\n",
       "33           Russia  1.083097e+06   41657.560005\n",
       "5             Chile  1.516214e+06   40978.748659\n",
       "7        Costa Rica  1.177196e+06   36787.387687\n",
       "3            Brazil  6.840184e+05   27360.737025\n",
       "6          Colombia  1.223122e+06   25481.709964\n",
       "18        Indonesia  5.848564e+05   17722.922718\n",
       "17            India  2.972828e+05   11433.954184"
      ]
     },
     "execution_count": 132,
     "metadata": {},
     "output_type": "execute_result"
    }
   ],
   "source": [
    "gdp_countries = data_gdp.groupby('Country')['Value'].agg(['sum', 'mean']).reset_index()\n",
    "gdp_countries.sort_values(by='mean',ascending=False)"
   ]
  },
  {
   "cell_type": "code",
   "execution_count": 138,
   "metadata": {},
   "outputs": [],
   "source": [
    "data_luxemburgo=data.loc[data['Country']=='Luxembourg']\n",
    "GDP_luxemburgo=data_luxemburgo[data_luxemburgo['Measure']=='USD, constant prices, 2015 PPPs']\n",
    "\n",
    "data_switzerland=data.loc[data['Country']=='Switzerland']\n",
    "GDP_switzerland=data_switzerland[data_switzerland['Measure']=='USD, constant prices, 2015 PPPs']\n",
    "\n",
    "data_ireland=data.loc[data['Country']=='Ireland']\n",
    "GDP_ireland=data_ireland[data_ireland['Measure']=='USD, constant prices, 2015 PPPs']\n",
    "\n",
    "data_norway=data.loc[data['Country']=='Norway']\n",
    "GDP_norway=data_norway[data_norway['Measure']=='USD, constant prices, 2015 PPPs']\n",
    "\n",
    "data_usa=data.loc[data['Country']=='United States']\n",
    "GDP_usa=data_usa[data_usa['Measure']=='USD, constant prices, 2015 PPPs']\n",
    "\n",
    "data_belgium=data.loc[data['Country']=='Belgium']\n",
    "GDP_belgium=data_belgium[data_belgium['Measure']=='USD, constant prices, 2015 PPPs']"
   ]
  },
  {
   "cell_type": "code",
   "execution_count": 187,
   "metadata": {},
   "outputs": [
    {
     "data": {
      "image/png": "[encoded data removed]",
      "text/plain": [
       "<Figure size 900x500 with 1 Axes>"
      ]
     },
     "metadata": {},
     "output_type": "display_data"
    }
   ],
   "source": [
    "plt.figure(figsize=(9, 5))\n",
    "ax = sns.lineplot(x=\"Time\", y=\"Value\", data=GDP_luxemburgo, label=\"Luxembourg\", marker=\"o\")\n",
    "sns.lineplot(x=\"Time\", y=\"Value\", data=GDP_switzerland, label=\"Switzerland\", marker=\"o\")\n",
    "sns.lineplot(x=\"Time\", y=\"Value\", data=GDP_ireland, label=\"Ireland\", marker=\"o\")\n",
    "sns.lineplot(x=\"Time\", y=\"Value\", data=GDP_norway, label=\"Norway\", marker=\"o\")\n",
    "sns.lineplot(x=\"Time\", y=\"Value\", data=GDP_usa, label=\"United States\", marker=\"o\")\n",
    "sns.lineplot(x=\"Time\", y=\"Value\", data=GDP_belgium, label=\"Belgium\", marker=\"o\")\n",
    "\n",
    "plt.xticks(rotation=45) \n",
    "#plt.title(\"GDP over time for top countries\", fontsize=14)  \n",
    "plt.xlabel(\"Year\") \n",
    "plt.ylabel(\"GDP\")  \n",
    "plt.legend() \n",
    "\n",
    "plt.show()"
   ]
  },
  {
   "cell_type": "markdown",
   "metadata": {},
   "source": [
    "## Ahora para los 6 paises con peores datos economicos, he considerado la media de GDP de los ultimos 50 años"
   ]
  },
  {
   "cell_type": "code",
   "execution_count": 136,
   "metadata": {},
   "outputs": [],
   "source": [
    "data_india=data.loc[data['Country']=='India']\n",
    "GDP_india=data_india[data_india['Measure']=='USD, constant prices, 2015 PPPs']\n",
    "\n",
    "data_indonesia=data.loc[data['Country']=='Indonesia']\n",
    "GDP_indonesia=data_indonesia[data_indonesia['Measure']=='USD, constant prices, 2015 PPPs']\n",
    "\n",
    "data_colombia=data.loc[data['Country']=='Colombia']\n",
    "GDP_colombia=data_colombia[data_colombia['Measure']=='USD, constant prices, 2015 PPPs']\n",
    "\n",
    "\n",
    "data_brasil=data.loc[data['Country']=='Brazil']\n",
    "GDP_brasil=data_brasil[data_brasil['Measure']=='USD, constant prices, 2015 PPPs']\n",
    "\n",
    "data_costarica=data.loc[data['Country']=='Costa Rica']\n",
    "GDP_costarica=data_costarica[data_costarica['Measure']=='USD, constant prices, 2015 PPPs']\n",
    "\n",
    "data_chile=data.loc[data['Country']=='Chile']\n",
    "GDP_chile=data_chile[data_chile['Measure']=='USD, constant prices, 2015 PPPs']"
   ]
  },
  {
   "cell_type": "code",
   "execution_count": 188,
   "metadata": {},
   "outputs": [
    {
     "data": {
      "image/png": "[encoded data removed]",
      "text/plain": [
       "<Figure size 900x500 with 1 Axes>"
      ]
     },
     "metadata": {},
     "output_type": "display_data"
    }
   ],
   "source": [
    "plt.figure(figsize=(9, 5))\n",
    "ax = sns.lineplot(x=\"Time\", y=\"Value\", data=GDP_india, label=\"India\", marker=\"o\")\n",
    "sns.lineplot(x=\"Time\", y=\"Value\", data=GDP_indonesia, label=\"Indonesia\", marker=\"o\")\n",
    "sns.lineplot(x=\"Time\", y=\"Value\", data=GDP_colombia, label=\"Colombia\", marker=\"o\")\n",
    "sns.lineplot(x=\"Time\", y=\"Value\", data=GDP_brasil, label=\"Brazil\", marker=\"o\")\n",
    "sns.lineplot(x=\"Time\", y=\"Value\", data=GDP_costarica, label=\"Costa Rica\", marker=\"o\")\n",
    "sns.lineplot(x=\"Time\", y=\"Value\", data=GDP_chile, label=\"Chile\", marker=\"o\")\n",
    "\n",
    "plt.xticks(rotation=45) \n",
    "#plt.title(\"GDP over time for bottom countries\", fontsize=14)  \n",
    "plt.xlabel(\"Year\") \n",
    "plt.ylabel(\"GDP\")\n",
    "plt.legend() \n",
    "#plt.ylim(5000, 225000)\n",
    "\n",
    "plt.show()"
   ]
  },
  {
   "cell_type": "markdown",
   "metadata": {},
   "source": [
    "## Para los 6 paises que tienen mas horas de trabajo, tomando como cifra la media de los ultimos 50 años"
   ]
  },
  {
   "cell_type": "code",
   "execution_count": 134,
   "metadata": {},
   "outputs": [
    {
     "data": {
      "text/html": [
       "<div>\n",
       "<style scoped>\n",
       "    .dataframe tbody tr th:only-of-type {\n",
       "        vertical-align: middle;\n",
       "    }\n",
       "\n",
       "    .dataframe tbody tr th {\n",
       "        vertical-align: top;\n",
       "    }\n",
       "\n",
       "    .dataframe thead th {\n",
       "        text-align: right;\n",
       "    }\n",
       "</style>\n",
       "<table border=\"1\" class=\"dataframe\">\n",
       "  <thead>\n",
       "    <tr style=\"text-align: right;\">\n",
       "      <th></th>\n",
       "      <th>Country</th>\n",
       "      <th>SUBJECT</th>\n",
       "      <th>Subject</th>\n",
       "      <th>Measure</th>\n",
       "      <th>Time</th>\n",
       "      <th>Unit Code</th>\n",
       "      <th>Unit</th>\n",
       "      <th>PowerCode</th>\n",
       "      <th>Value</th>\n",
       "    </tr>\n",
       "  </thead>\n",
       "  <tbody>\n",
       "    <tr>\n",
       "      <th>40043</th>\n",
       "      <td>Germany</td>\n",
       "      <td>T_HRSAV</td>\n",
       "      <td>Average hours worked per person employed</td>\n",
       "      <td>Persons/Hours</td>\n",
       "      <td>2020</td>\n",
       "      <td>HOUR</td>\n",
       "      <td>Hours</td>\n",
       "      <td>Units</td>\n",
       "      <td>1319.130691</td>\n",
       "    </tr>\n",
       "    <tr>\n",
       "      <th>40044</th>\n",
       "      <td>Germany</td>\n",
       "      <td>T_HRSAV</td>\n",
       "      <td>Average hours worked per person employed</td>\n",
       "      <td>Persons/Hours</td>\n",
       "      <td>2021</td>\n",
       "      <td>HOUR</td>\n",
       "      <td>Hours</td>\n",
       "      <td>Units</td>\n",
       "      <td>1340.165629</td>\n",
       "    </tr>\n",
       "    <tr>\n",
       "      <th>40045</th>\n",
       "      <td>Germany</td>\n",
       "      <td>T_HRSAV</td>\n",
       "      <td>Average hours worked per person employed</td>\n",
       "      <td>Persons/Hours</td>\n",
       "      <td>2022</td>\n",
       "      <td>HOUR</td>\n",
       "      <td>Hours</td>\n",
       "      <td>Units</td>\n",
       "      <td>1340.259063</td>\n",
       "    </tr>\n",
       "    <tr>\n",
       "      <th>35056</th>\n",
       "      <td>Denmark</td>\n",
       "      <td>T_HRSAV</td>\n",
       "      <td>Average hours worked per person employed</td>\n",
       "      <td>Persons/Hours</td>\n",
       "      <td>2020</td>\n",
       "      <td>HOUR</td>\n",
       "      <td>Hours</td>\n",
       "      <td>Units</td>\n",
       "      <td>1344.851329</td>\n",
       "    </tr>\n",
       "    <tr>\n",
       "      <th>35057</th>\n",
       "      <td>Denmark</td>\n",
       "      <td>T_HRSAV</td>\n",
       "      <td>Average hours worked per person employed</td>\n",
       "      <td>Persons/Hours</td>\n",
       "      <td>2021</td>\n",
       "      <td>HOUR</td>\n",
       "      <td>Hours</td>\n",
       "      <td>Units</td>\n",
       "      <td>1362.879134</td>\n",
       "    </tr>\n",
       "  </tbody>\n",
       "</table>\n",
       "</div>"
      ],
      "text/plain": [
       "       Country  SUBJECT                                   Subject  \\\n",
       "40043  Germany  T_HRSAV  Average hours worked per person employed   \n",
       "40044  Germany  T_HRSAV  Average hours worked per person employed   \n",
       "40045  Germany  T_HRSAV  Average hours worked per person employed   \n",
       "35056  Denmark  T_HRSAV  Average hours worked per person employed   \n",
       "35057  Denmark  T_HRSAV  Average hours worked per person employed   \n",
       "\n",
       "             Measure  Time Unit Code   Unit PowerCode        Value  \n",
       "40043  Persons/Hours  2020      HOUR  Hours     Units  1319.130691  \n",
       "40044  Persons/Hours  2021      HOUR  Hours     Units  1340.165629  \n",
       "40045  Persons/Hours  2022      HOUR  Hours     Units  1340.259063  \n",
       "35056  Persons/Hours  2020      HOUR  Hours     Units  1344.851329  \n",
       "35057  Persons/Hours  2021      HOUR  Hours     Units  1362.879134  "
      ]
     },
     "execution_count": 134,
     "metadata": {},
     "output_type": "execute_result"
    }
   ],
   "source": [
    "data_hrs=data.loc[data['SUBJECT']=='T_HRSAV'].sort_values(by='Value')\n",
    "data_hrs.head()"
   ]
  },
  {
   "cell_type": "code",
   "execution_count": 135,
   "metadata": {},
   "outputs": [
    {
     "data": {
      "text/html": [
       "<div>\n",
       "<style scoped>\n",
       "    .dataframe tbody tr th:only-of-type {\n",
       "        vertical-align: middle;\n",
       "    }\n",
       "\n",
       "    .dataframe tbody tr th {\n",
       "        vertical-align: top;\n",
       "    }\n",
       "\n",
       "    .dataframe thead th {\n",
       "        text-align: right;\n",
       "    }\n",
       "</style>\n",
       "<table border=\"1\" class=\"dataframe\">\n",
       "  <thead>\n",
       "    <tr style=\"text-align: right;\">\n",
       "      <th></th>\n",
       "      <th>Country</th>\n",
       "      <th>sum</th>\n",
       "      <th>mean</th>\n",
       "    </tr>\n",
       "  </thead>\n",
       "  <tbody>\n",
       "    <tr>\n",
       "      <th>35</th>\n",
       "      <td>Sweden</td>\n",
       "      <td>76841.915856</td>\n",
       "      <td>1449.847469</td>\n",
       "    </tr>\n",
       "    <tr>\n",
       "      <th>8</th>\n",
       "      <td>Denmark</td>\n",
       "      <td>79046.406541</td>\n",
       "      <td>1491.441633</td>\n",
       "    </tr>\n",
       "    <tr>\n",
       "      <th>25</th>\n",
       "      <td>Netherlands</td>\n",
       "      <td>79457.751177</td>\n",
       "      <td>1499.202852</td>\n",
       "    </tr>\n",
       "    <tr>\n",
       "      <th>27</th>\n",
       "      <td>Norway</td>\n",
       "      <td>79961.673673</td>\n",
       "      <td>1508.710824</td>\n",
       "    </tr>\n",
       "    <tr>\n",
       "      <th>12</th>\n",
       "      <td>Germany</td>\n",
       "      <td>82950.618415</td>\n",
       "      <td>1565.106008</td>\n",
       "    </tr>\n",
       "    <tr>\n",
       "      <th>1</th>\n",
       "      <td>Austria</td>\n",
       "      <td>44159.535634</td>\n",
       "      <td>1577.126273</td>\n",
       "    </tr>\n",
       "    <tr>\n",
       "      <th>38</th>\n",
       "      <td>United Kingdom</td>\n",
       "      <td>84166.039730</td>\n",
       "      <td>1588.038485</td>\n",
       "    </tr>\n",
       "    <tr>\n",
       "      <th>23</th>\n",
       "      <td>Luxembourg</td>\n",
       "      <td>86174.893259</td>\n",
       "      <td>1625.941382</td>\n",
       "    </tr>\n",
       "    <tr>\n",
       "      <th>2</th>\n",
       "      <td>Belgium</td>\n",
       "      <td>86877.445867</td>\n",
       "      <td>1639.197092</td>\n",
       "    </tr>\n",
       "    <tr>\n",
       "      <th>11</th>\n",
       "      <td>France</td>\n",
       "      <td>87009.747741</td>\n",
       "      <td>1641.693354</td>\n",
       "    </tr>\n",
       "    <tr>\n",
       "      <th>22</th>\n",
       "      <td>Lithuania</td>\n",
       "      <td>46033.323906</td>\n",
       "      <td>1644.047282</td>\n",
       "    </tr>\n",
       "    <tr>\n",
       "      <th>10</th>\n",
       "      <td>Finland</td>\n",
       "      <td>88231.482574</td>\n",
       "      <td>1664.744954</td>\n",
       "    </tr>\n",
       "    <tr>\n",
       "      <th>32</th>\n",
       "      <td>Slovenia</td>\n",
       "      <td>46856.971476</td>\n",
       "      <td>1673.463267</td>\n",
       "    </tr>\n",
       "    <tr>\n",
       "      <th>36</th>\n",
       "      <td>Switzerland</td>\n",
       "      <td>89178.933349</td>\n",
       "      <td>1682.621384</td>\n",
       "    </tr>\n",
       "    <tr>\n",
       "      <th>15</th>\n",
       "      <td>Iceland</td>\n",
       "      <td>90105.955031</td>\n",
       "      <td>1700.112359</td>\n",
       "    </tr>\n",
       "    <tr>\n",
       "      <th>21</th>\n",
       "      <td>Latvia</td>\n",
       "      <td>48928.430258</td>\n",
       "      <td>1747.443938</td>\n",
       "    </tr>\n",
       "    <tr>\n",
       "      <th>31</th>\n",
       "      <td>Slovak Republic</td>\n",
       "      <td>49159.025566</td>\n",
       "      <td>1755.679484</td>\n",
       "    </tr>\n",
       "    <tr>\n",
       "      <th>39</th>\n",
       "      <td>United States</td>\n",
       "      <td>93809.584580</td>\n",
       "      <td>1769.992162</td>\n",
       "    </tr>\n",
       "    <tr>\n",
       "      <th>3</th>\n",
       "      <td>Canada</td>\n",
       "      <td>94231.251607</td>\n",
       "      <td>1777.948144</td>\n",
       "    </tr>\n",
       "    <tr>\n",
       "      <th>29</th>\n",
       "      <td>Portugal</td>\n",
       "      <td>94290.978708</td>\n",
       "      <td>1779.075070</td>\n",
       "    </tr>\n",
       "    <tr>\n",
       "      <th>34</th>\n",
       "      <td>Spain</td>\n",
       "      <td>94843.081237</td>\n",
       "      <td>1789.492099</td>\n",
       "    </tr>\n",
       "    <tr>\n",
       "      <th>7</th>\n",
       "      <td>Czech Republic</td>\n",
       "      <td>53975.369013</td>\n",
       "      <td>1799.178967</td>\n",
       "    </tr>\n",
       "    <tr>\n",
       "      <th>26</th>\n",
       "      <td>New Zealand</td>\n",
       "      <td>95761.474731</td>\n",
       "      <td>1806.820278</td>\n",
       "    </tr>\n",
       "    <tr>\n",
       "      <th>9</th>\n",
       "      <td>Estonia</td>\n",
       "      <td>41584.704921</td>\n",
       "      <td>1808.030649</td>\n",
       "    </tr>\n",
       "    <tr>\n",
       "      <th>0</th>\n",
       "      <td>Australia</td>\n",
       "      <td>96910.970619</td>\n",
       "      <td>1828.508880</td>\n",
       "    </tr>\n",
       "    <tr>\n",
       "      <th>18</th>\n",
       "      <td>Italy</td>\n",
       "      <td>96980.834094</td>\n",
       "      <td>1829.827058</td>\n",
       "    </tr>\n",
       "    <tr>\n",
       "      <th>28</th>\n",
       "      <td>Poland</td>\n",
       "      <td>55450.656777</td>\n",
       "      <td>1848.355226</td>\n",
       "    </tr>\n",
       "    <tr>\n",
       "      <th>37</th>\n",
       "      <td>Türkiye</td>\n",
       "      <td>100594.002234</td>\n",
       "      <td>1898.000042</td>\n",
       "    </tr>\n",
       "    <tr>\n",
       "      <th>19</th>\n",
       "      <td>Japan</td>\n",
       "      <td>101529.489180</td>\n",
       "      <td>1915.650739</td>\n",
       "    </tr>\n",
       "    <tr>\n",
       "      <th>14</th>\n",
       "      <td>Hungary</td>\n",
       "      <td>82909.429115</td>\n",
       "      <td>1928.126258</td>\n",
       "    </tr>\n",
       "    <tr>\n",
       "      <th>16</th>\n",
       "      <td>Ireland</td>\n",
       "      <td>102817.388886</td>\n",
       "      <td>1939.950734</td>\n",
       "    </tr>\n",
       "    <tr>\n",
       "      <th>17</th>\n",
       "      <td>Israel</td>\n",
       "      <td>81665.726032</td>\n",
       "      <td>1944.422048</td>\n",
       "    </tr>\n",
       "    <tr>\n",
       "      <th>30</th>\n",
       "      <td>Russia</td>\n",
       "      <td>56942.000000</td>\n",
       "      <td>1963.517241</td>\n",
       "    </tr>\n",
       "    <tr>\n",
       "      <th>13</th>\n",
       "      <td>Greece</td>\n",
       "      <td>81105.623676</td>\n",
       "      <td>1978.185943</td>\n",
       "    </tr>\n",
       "    <tr>\n",
       "      <th>20</th>\n",
       "      <td>Korea</td>\n",
       "      <td>24218.464135</td>\n",
       "      <td>2018.205345</td>\n",
       "    </tr>\n",
       "    <tr>\n",
       "      <th>4</th>\n",
       "      <td>Chile</td>\n",
       "      <td>80650.100000</td>\n",
       "      <td>2179.732432</td>\n",
       "    </tr>\n",
       "    <tr>\n",
       "      <th>24</th>\n",
       "      <td>Mexico</td>\n",
       "      <td>70563.830020</td>\n",
       "      <td>2205.119688</td>\n",
       "    </tr>\n",
       "    <tr>\n",
       "      <th>33</th>\n",
       "      <td>South Africa</td>\n",
       "      <td>47188.539035</td>\n",
       "      <td>2247.073287</td>\n",
       "    </tr>\n",
       "    <tr>\n",
       "      <th>6</th>\n",
       "      <td>Costa Rica</td>\n",
       "      <td>82280.671539</td>\n",
       "      <td>2285.574209</td>\n",
       "    </tr>\n",
       "    <tr>\n",
       "      <th>5</th>\n",
       "      <td>Colombia</td>\n",
       "      <td>128553.709124</td>\n",
       "      <td>2425.541682</td>\n",
       "    </tr>\n",
       "  </tbody>\n",
       "</table>\n",
       "</div>"
      ],
      "text/plain": [
       "            Country            sum         mean\n",
       "35           Sweden   76841.915856  1449.847469\n",
       "8           Denmark   79046.406541  1491.441633\n",
       "25      Netherlands   79457.751177  1499.202852\n",
       "27           Norway   79961.673673  1508.710824\n",
       "12          Germany   82950.618415  1565.106008\n",
       "1           Austria   44159.535634  1577.126273\n",
       "38   United Kingdom   84166.039730  1588.038485\n",
       "23       Luxembourg   86174.893259  1625.941382\n",
       "2           Belgium   86877.445867  1639.197092\n",
       "11           France   87009.747741  1641.693354\n",
       "22        Lithuania   46033.323906  1644.047282\n",
       "10          Finland   88231.482574  1664.744954\n",
       "32         Slovenia   46856.971476  1673.463267\n",
       "36      Switzerland   89178.933349  1682.621384\n",
       "15          Iceland   90105.955031  1700.112359\n",
       "21           Latvia   48928.430258  1747.443938\n",
       "31  Slovak Republic   49159.025566  1755.679484\n",
       "39    United States   93809.584580  1769.992162\n",
       "3            Canada   94231.251607  1777.948144\n",
       "29         Portugal   94290.978708  1779.075070\n",
       "34            Spain   94843.081237  1789.492099\n",
       "7    Czech Republic   53975.369013  1799.178967\n",
       "26      New Zealand   95761.474731  1806.820278\n",
       "9           Estonia   41584.704921  1808.030649\n",
       "0         Australia   96910.970619  1828.508880\n",
       "18            Italy   96980.834094  1829.827058\n",
       "28           Poland   55450.656777  1848.355226\n",
       "37          Türkiye  100594.002234  1898.000042\n",
       "19            Japan  101529.489180  1915.650739\n",
       "14          Hungary   82909.429115  1928.126258\n",
       "16          Ireland  102817.388886  1939.950734\n",
       "17           Israel   81665.726032  1944.422048\n",
       "30           Russia   56942.000000  1963.517241\n",
       "13           Greece   81105.623676  1978.185943\n",
       "20            Korea   24218.464135  2018.205345\n",
       "4             Chile   80650.100000  2179.732432\n",
       "24           Mexico   70563.830020  2205.119688\n",
       "33     South Africa   47188.539035  2247.073287\n",
       "6        Costa Rica   82280.671539  2285.574209\n",
       "5          Colombia  128553.709124  2425.541682"
      ]
     },
     "execution_count": 135,
     "metadata": {},
     "output_type": "execute_result"
    }
   ],
   "source": [
    "hrs_countries = data_hrs.groupby('Country')['Value'].agg(['sum', 'mean']).reset_index()\n",
    "hrs_countries.sort_values(by='mean')"
   ]
  },
  {
   "cell_type": "code",
   "execution_count": 141,
   "metadata": {},
   "outputs": [],
   "source": [
    "data_colombia=data.loc[data['Country']=='Colombia']\n",
    "hrs_colombia=data_colombia[data_colombia['Measure']=='Persons/Hours']\n",
    "\n",
    "data_costarica=data.loc[data['Country']=='Costa Rica']\n",
    "hrs_costarica=data_costarica[data_costarica['Measure']=='Persons/Hours']\n",
    "\n",
    "data_southafrica=data.loc[data['Country']=='South Africa']\n",
    "hrs_southafrica=data_southafrica[data_southafrica['Measure']=='Persons/Hours']\n",
    "\n",
    "data_mexico=data.loc[data['Country']=='Mexico']\n",
    "hrs_mexico=data_mexico[data_mexico['Measure']=='Persons/Hours']\n",
    "\n",
    "data_chile=data.loc[data['Country']=='Chile']\n",
    "hrs_chile=data_chile[data_chile['Measure']=='Persons/Hours']\n",
    "\n",
    "data_korea=data.loc[data['Country']=='Korea']\n",
    "hrs_korea=data_korea[data_korea['Measure']=='Persons/Hours']\n",
    "\n"
   ]
  },
  {
   "cell_type": "code",
   "execution_count": 189,
   "metadata": {},
   "outputs": [
    {
     "data": {
      "image/png": "[encoded data removed]",
      "text/plain": [
       "<Figure size 900x500 with 1 Axes>"
      ]
     },
     "metadata": {},
     "output_type": "display_data"
    }
   ],
   "source": [
    "plt.figure(figsize=(9, 5))\n",
    "ax = sns.lineplot(x=\"Time\", y=\"Value\", data=hrs_colombia, label=\"Colombia\", marker=\"o\")\n",
    "sns.lineplot(x=\"Time\", y=\"Value\", data=hrs_costarica, label=\"Costa Rica\", marker=\"o\")\n",
    "sns.lineplot(x=\"Time\", y=\"Value\", data=hrs_southafrica, label=\"South Africa\", marker=\"o\")\n",
    "sns.lineplot(x=\"Time\", y=\"Value\", data=hrs_mexico, label=\"Mexico\", marker=\"o\")\n",
    "sns.lineplot(x=\"Time\", y=\"Value\", data=hrs_chile, label=\"Chile\", marker=\"o\")\n",
    "sns.lineplot(x=\"Time\", y=\"Value\", data=hrs_korea, label=\"Korea\", marker=\"o\")\n",
    "\n",
    "plt.xticks(rotation=45) \n",
    "#plt.title(\"Avg. hours worked over time for bottom countries\", fontsize=14)  \n",
    "plt.xlabel(\"Year\") \n",
    "plt.ylabel(\"Hours\")  \n",
    "plt.legend() \n",
    "\n",
    "plt.show()"
   ]
  },
  {
   "cell_type": "markdown",
   "metadata": {},
   "source": [
    "## Me falta el grafico con los paises que acumulan menos horas de trabajo de media en los ultimos 50 años"
   ]
  },
  {
   "cell_type": "code",
   "execution_count": 144,
   "metadata": {},
   "outputs": [],
   "source": [
    "data_sweden=data.loc[data['Country']=='Sweden']\n",
    "hrs_sweden=data_sweden[data_sweden['Measure']=='Persons/Hours']\n",
    "\n",
    "data_denmark=data.loc[data['Country']=='Denmark']\n",
    "hrs_denmark=data_denmark[data_denmark['Measure']=='Persons/Hours']\n",
    "\n",
    "data_netherlands=data.loc[data['Country']=='Netherlands']\n",
    "hrs_netherlands=data_netherlands[data_netherlands['Measure']=='Persons/Hours']\n",
    "\n",
    "data_norway=data.loc[data['Country']=='Norway']\n",
    "hrs_norway=data_norway[data_norway['Measure']=='Persons/Hours']\n",
    "\n",
    "data_germany=data.loc[data['Country']=='Germany']\n",
    "hrs_germany=data_germany[data_germany['Measure']=='Persons/Hours']\n",
    "\n",
    "data_austria=data.loc[data['Country']=='Austria']\n",
    "hrs_austria=data_austria[data_austria['Measure']=='Persons/Hours']"
   ]
  },
  {
   "cell_type": "code",
   "execution_count": 191,
   "metadata": {},
   "outputs": [
    {
     "data": {
      "image/png": "[encoded data removed]",
      "text/plain": [
       "<Figure size 900x500 with 1 Axes>"
      ]
     },
     "metadata": {},
     "output_type": "display_data"
    }
   ],
   "source": [
    "plt.figure(figsize=(9, 5))\n",
    "ax = sns.lineplot(x=\"Time\", y=\"Value\", data=hrs_sweden, label=\"Sweden\", marker=\"o\")\n",
    "sns.lineplot(x=\"Time\", y=\"Value\", data=hrs_denmark, label=\"Demnmark\", marker=\"o\")\n",
    "sns.lineplot(x=\"Time\", y=\"Value\", data=hrs_netherlands, label=\"Netherlands\", marker=\"o\")\n",
    "sns.lineplot(x=\"Time\", y=\"Value\", data=hrs_norway, label=\"Norway\", marker=\"o\")\n",
    "sns.lineplot(x=\"Time\", y=\"Value\", data=hrs_germany, label=\"Germany\", marker=\"o\")\n",
    "sns.lineplot(x=\"Time\", y=\"Value\", data=hrs_austria, label=\"Austria\", marker=\"o\")\n",
    "\n",
    "plt.xticks(rotation=45) \n",
    "#plt.title(\"Avg. hours worked over time for top countries\", fontsize=14)  \n",
    "plt.xlabel(\"Year\") \n",
    "plt.ylabel(\"Hours\")  \n",
    "plt.legend() \n",
    "\n",
    "plt.show()"
   ]
  },
  {
   "cell_type": "code",
   "execution_count": 62,
   "metadata": {},
   "outputs": [
    {
     "data": {
      "text/plain": [
       "array(['National currency, current prices',\n",
       "       'USD, current prices, current PPPs',\n",
       "       'USD, constant prices, 2015 PPPs', 'As % of the USA (USA=100)',\n",
       "       'Persons/Hours'], dtype=object)"
      ]
     },
     "execution_count": 62,
     "metadata": {},
     "output_type": "execute_result"
    }
   ],
   "source": [
    "data['Measure'].unique()"
   ]
  },
  {
   "cell_type": "code",
   "execution_count": 67,
   "metadata": {},
   "outputs": [],
   "source": [
    "data_gdp=data.loc[data['Measure']=='USD, constant prices, 2015 PPPs']\n",
    "data_hrs=data.loc[data['Measure']=='Persons/Hours']"
   ]
  },
  {
   "cell_type": "code",
   "execution_count": 71,
   "metadata": {},
   "outputs": [
    {
     "name": "stdout",
     "output_type": "stream",
     "text": [
      "          Country           GDP  Avg Hours Worked\n",
      "0       Australia  52277.238536       1947.638609\n",
      "1       Australia  52277.238536       1928.949093\n",
      "2       Australia  52277.238536       1908.560532\n",
      "3       Australia  52277.238536       1895.180538\n",
      "4       Australia  52277.238536       1912.489577\n",
      "...           ...           ...               ...\n",
      "82255  Costa Rica  49282.579095       2127.988094\n",
      "82256  Costa Rica  49282.579095       2069.245550\n",
      "82257  Costa Rica  49282.579095       1929.477248\n",
      "82258  Costa Rica  49282.579095       2080.563075\n",
      "82259  Costa Rica  49282.579095       2155.716921\n",
      "\n",
      "[82260 rows x 3 columns]\n"
     ]
    }
   ],
   "source": [
    "\n",
    "merged_df = pd.merge(data_gdp[['Country', 'Value']], data_hrs[['Country', 'Value']], on='Country')\n",
    "merged_df.columns = ['Country', 'GDP', 'Avg Hours Worked']\n",
    "print(merged_df)"
   ]
  },
  {
   "cell_type": "code",
   "execution_count": 77,
   "metadata": {},
   "outputs": [],
   "source": [
    "sorted_df = merged_df.sort_values(by='GDP', ascending=True)\n",
    "\n",
    "sorted_df.reset_index(drop=True, inplace=True)"
   ]
  },
  {
   "cell_type": "code",
   "execution_count": 172,
   "metadata": {},
   "outputs": [
    {
     "data": {
      "text/plain": [
       "82260"
      ]
     },
     "execution_count": 172,
     "metadata": {},
     "output_type": "execute_result"
    }
   ],
   "source": [
    "len(merged_df)"
   ]
  },
  {
   "cell_type": "code",
   "execution_count": 155,
   "metadata": {},
   "outputs": [
    {
     "data": {
      "image/png": "[encoded data removed]",
      "text/plain": [
       "<Figure size 700x300 with 2 Axes>"
      ]
     },
     "metadata": {},
     "output_type": "display_data"
    }
   ],
   "source": [
    "correlation_matrix1 = merged_df[['GDP', 'Avg Hours Worked']].corr()\n",
    "\n",
    "plt.figure(figsize=(7,3))\n",
    "sns.heatmap(correlation_matrix1, annot=True, cmap=\"YlGnBu\", linewidths=0.5)\n",
    "#plt.title('Correlation Heatmap: GDP vs. Avg Hours Worked')\n",
    "\n",
    "plt.show()"
   ]
  },
  {
   "cell_type": "code",
   "execution_count": 177,
   "metadata": {},
   "outputs": [
    {
     "data": {
      "image/png": "[encoded data removed]",
      "text/plain": [
       "<Figure size 700x300 with 2 Axes>"
      ]
     },
     "metadata": {},
     "output_type": "display_data"
    }
   ],
   "source": [
    "best_countries = sorted_df[0:20]\n",
    "correlation_matrix2 = best_countries[['GDP', 'Avg Hours Worked']].corr()\n",
    "\n",
    "plt.figure(figsize=(7,3))\n",
    "sns.heatmap(correlation_matrix2, annot=True, cmap=\"YlGnBu\", linewidths=0.5)\n",
    "#plt.title('Correlation Heatmap: GDP vs. Avg Hours Worked')\n",
    "\n",
    "plt.show()"
   ]
  },
  {
   "cell_type": "code",
   "execution_count": 178,
   "metadata": {},
   "outputs": [
    {
     "data": {
      "image/png": "[encoded data removed]",
      "text/plain": [
       "<Figure size 700x300 with 2 Axes>"
      ]
     },
     "metadata": {},
     "output_type": "display_data"
    }
   ],
   "source": [
    "worst_countries = sorted_df[20:42]\n",
    "correlation_matrix3 = worst_countries[['GDP', 'Avg Hours Worked']].corr()\n",
    "\n",
    "plt.figure(figsize=(7,3))\n",
    "sns.heatmap(correlation_matrix3, annot=True, cmap=\"YlGnBu\", linewidths=0.5)\n",
    "plt.title('Correlation Heatmap: GDP vs. Avg Hours Worked')\n",
    "\n",
    "plt.show()"
   ]
  },
  {
   "cell_type": "code",
   "execution_count": 179,
   "metadata": {},
   "outputs": [
    {
     "data": {
      "text/plain": [
       "22"
      ]
     },
     "execution_count": 179,
     "metadata": {},
     "output_type": "execute_result"
    }
   ],
   "source": [
    "len(worst_countries)"
   ]
  },
  {
   "cell_type": "markdown",
   "metadata": {},
   "source": [
    "## Nos quedamos los datos solo del ultimo año"
   ]
  },
  {
   "cell_type": "code",
   "execution_count": 22,
   "metadata": {},
   "outputs": [],
   "source": [
    "data2022 = data.loc[data['Time']== 2022]"
   ]
  },
  {
   "cell_type": "code",
   "execution_count": 23,
   "metadata": {},
   "outputs": [
    {
     "data": {
      "text/plain": [
       "array(['National currency, current prices',\n",
       "       'USD, current prices, current PPPs',\n",
       "       'USD, constant prices, 2015 PPPs', 'As % of the USA (USA=100)'],\n",
       "      dtype=object)"
      ]
     },
     "execution_count": 23,
     "metadata": {},
     "output_type": "execute_result"
    }
   ],
   "source": [
    "data2022.loc[data2022['Subject']=='GDP per person employed']['Measure'].unique()"
   ]
  },
  {
   "cell_type": "code",
   "execution_count": 24,
   "metadata": {},
   "outputs": [
    {
     "data": {
      "text/html": [
       "<div>\n",
       "<style scoped>\n",
       "    .dataframe tbody tr th:only-of-type {\n",
       "        vertical-align: middle;\n",
       "    }\n",
       "\n",
       "    .dataframe tbody tr th {\n",
       "        vertical-align: top;\n",
       "    }\n",
       "\n",
       "    .dataframe thead th {\n",
       "        text-align: right;\n",
       "    }\n",
       "</style>\n",
       "<table border=\"1\" class=\"dataframe\">\n",
       "  <thead>\n",
       "    <tr style=\"text-align: right;\">\n",
       "      <th></th>\n",
       "      <th>Country</th>\n",
       "      <th>SUBJECT</th>\n",
       "      <th>Subject</th>\n",
       "      <th>Measure</th>\n",
       "      <th>Time</th>\n",
       "      <th>Unit Code</th>\n",
       "      <th>Unit</th>\n",
       "      <th>PowerCode</th>\n",
       "      <th>Value</th>\n",
       "    </tr>\n",
       "  </thead>\n",
       "  <tbody>\n",
       "    <tr>\n",
       "      <th>211</th>\n",
       "      <td>Australia</td>\n",
       "      <td>T_GDPEMP</td>\n",
       "      <td>GDP per person employed</td>\n",
       "      <td>National currency, current prices</td>\n",
       "      <td>2022</td>\n",
       "      <td>NATCUR</td>\n",
       "      <td>National currency</td>\n",
       "      <td>Units</td>\n",
       "      <td>184816.290470</td>\n",
       "    </tr>\n",
       "    <tr>\n",
       "      <th>423</th>\n",
       "      <td>Australia</td>\n",
       "      <td>T_GDPEMP</td>\n",
       "      <td>GDP per person employed</td>\n",
       "      <td>USD, current prices, current PPPs</td>\n",
       "      <td>2022</td>\n",
       "      <td>USD</td>\n",
       "      <td>US Dollar</td>\n",
       "      <td>Units</td>\n",
       "      <td>127782.723690</td>\n",
       "    </tr>\n",
       "    <tr>\n",
       "      <th>635</th>\n",
       "      <td>Australia</td>\n",
       "      <td>T_GDPEMP</td>\n",
       "      <td>GDP per person employed</td>\n",
       "      <td>USD, constant prices, 2015 PPPs</td>\n",
       "      <td>2022</td>\n",
       "      <td>USD</td>\n",
       "      <td>US Dollar</td>\n",
       "      <td>Units</td>\n",
       "      <td>94935.801615</td>\n",
       "    </tr>\n",
       "    <tr>\n",
       "      <th>847</th>\n",
       "      <td>Australia</td>\n",
       "      <td>T_GDPEMP</td>\n",
       "      <td>GDP per person employed</td>\n",
       "      <td>As % of the USA (USA=100)</td>\n",
       "      <td>2022</td>\n",
       "      <td>PC</td>\n",
       "      <td>Percentage</td>\n",
       "      <td>Units</td>\n",
       "      <td>80.569761</td>\n",
       "    </tr>\n",
       "    <tr>\n",
       "      <th>1028</th>\n",
       "      <td>Austria</td>\n",
       "      <td>T_GDPEMP</td>\n",
       "      <td>GDP per person employed</td>\n",
       "      <td>National currency, current prices</td>\n",
       "      <td>2022</td>\n",
       "      <td>NATCUR</td>\n",
       "      <td>National currency</td>\n",
       "      <td>Units</td>\n",
       "      <td>95718.223016</td>\n",
       "    </tr>\n",
       "  </tbody>\n",
       "</table>\n",
       "</div>"
      ],
      "text/plain": [
       "        Country   SUBJECT                  Subject  \\\n",
       "211   Australia  T_GDPEMP  GDP per person employed   \n",
       "423   Australia  T_GDPEMP  GDP per person employed   \n",
       "635   Australia  T_GDPEMP  GDP per person employed   \n",
       "847   Australia  T_GDPEMP  GDP per person employed   \n",
       "1028    Austria  T_GDPEMP  GDP per person employed   \n",
       "\n",
       "                                Measure  Time Unit Code               Unit  \\\n",
       "211   National currency, current prices  2022    NATCUR  National currency   \n",
       "423   USD, current prices, current PPPs  2022       USD          US Dollar   \n",
       "635     USD, constant prices, 2015 PPPs  2022       USD          US Dollar   \n",
       "847           As % of the USA (USA=100)  2022        PC         Percentage   \n",
       "1028  National currency, current prices  2022    NATCUR  National currency   \n",
       "\n",
       "     PowerCode          Value  \n",
       "211      Units  184816.290470  \n",
       "423      Units  127782.723690  \n",
       "635      Units   94935.801615  \n",
       "847      Units      80.569761  \n",
       "1028     Units   95718.223016  "
      ]
     },
     "execution_count": 24,
     "metadata": {},
     "output_type": "execute_result"
    }
   ],
   "source": [
    "data2022.head()"
   ]
  },
  {
   "cell_type": "code",
   "execution_count": 25,
   "metadata": {},
   "outputs": [],
   "source": [
    "GDP_pp_employed=data2022[data2022['Measure']=='USD, constant prices, 2015 PPPs'].sort_values(by='Value',ascending=False)"
   ]
  },
  {
   "cell_type": "code",
   "execution_count": 26,
   "metadata": {},
   "outputs": [
    {
     "data": {
      "text/html": [
       "<div>\n",
       "<style scoped>\n",
       "    .dataframe tbody tr th:only-of-type {\n",
       "        vertical-align: middle;\n",
       "    }\n",
       "\n",
       "    .dataframe tbody tr th {\n",
       "        vertical-align: top;\n",
       "    }\n",
       "\n",
       "    .dataframe thead th {\n",
       "        text-align: right;\n",
       "    }\n",
       "</style>\n",
       "<table border=\"1\" class=\"dataframe\">\n",
       "  <thead>\n",
       "    <tr style=\"text-align: right;\">\n",
       "      <th></th>\n",
       "      <th>Country</th>\n",
       "      <th>SUBJECT</th>\n",
       "      <th>Subject</th>\n",
       "      <th>Measure</th>\n",
       "      <th>Time</th>\n",
       "      <th>Unit Code</th>\n",
       "      <th>Unit</th>\n",
       "      <th>PowerCode</th>\n",
       "      <th>Value</th>\n",
       "    </tr>\n",
       "  </thead>\n",
       "  <tbody>\n",
       "    <tr>\n",
       "      <th>9915</th>\n",
       "      <td>Ireland</td>\n",
       "      <td>T_GDPEMP</td>\n",
       "      <td>GDP per person employed</td>\n",
       "      <td>USD, constant prices, 2015 PPPs</td>\n",
       "      <td>2022</td>\n",
       "      <td>USD</td>\n",
       "      <td>US Dollar</td>\n",
       "      <td>Units</td>\n",
       "      <td>219137.226430</td>\n",
       "    </tr>\n",
       "    <tr>\n",
       "      <th>13143</th>\n",
       "      <td>Luxembourg</td>\n",
       "      <td>T_GDPEMP</td>\n",
       "      <td>GDP per person employed</td>\n",
       "      <td>USD, constant prices, 2015 PPPs</td>\n",
       "      <td>2022</td>\n",
       "      <td>USD</td>\n",
       "      <td>US Dollar</td>\n",
       "      <td>Units</td>\n",
       "      <td>142580.238020</td>\n",
       "    </tr>\n",
       "    <tr>\n",
       "      <th>23291</th>\n",
       "      <td>United States</td>\n",
       "      <td>T_GDPEMP</td>\n",
       "      <td>GDP per person employed</td>\n",
       "      <td>USD, constant prices, 2015 PPPs</td>\n",
       "      <td>2022</td>\n",
       "      <td>USD</td>\n",
       "      <td>US Dollar</td>\n",
       "      <td>Units</td>\n",
       "      <td>130507.500860</td>\n",
       "    </tr>\n",
       "    <tr>\n",
       "      <th>16367</th>\n",
       "      <td>Norway</td>\n",
       "      <td>T_GDPEMP</td>\n",
       "      <td>GDP per person employed</td>\n",
       "      <td>USD, constant prices, 2015 PPPs</td>\n",
       "      <td>2022</td>\n",
       "      <td>USD</td>\n",
       "      <td>US Dollar</td>\n",
       "      <td>Units</td>\n",
       "      <td>120139.210080</td>\n",
       "    </tr>\n",
       "    <tr>\n",
       "      <th>20747</th>\n",
       "      <td>Switzerland</td>\n",
       "      <td>T_GDPEMP</td>\n",
       "      <td>GDP per person employed</td>\n",
       "      <td>USD, constant prices, 2015 PPPs</td>\n",
       "      <td>2022</td>\n",
       "      <td>USD</td>\n",
       "      <td>US Dollar</td>\n",
       "      <td>Units</td>\n",
       "      <td>116637.921090</td>\n",
       "    </tr>\n",
       "    <tr>\n",
       "      <th>2207</th>\n",
       "      <td>Belgium</td>\n",
       "      <td>T_GDPEMP</td>\n",
       "      <td>GDP per person employed</td>\n",
       "      <td>USD, constant prices, 2015 PPPs</td>\n",
       "      <td>2022</td>\n",
       "      <td>USD</td>\n",
       "      <td>US Dollar</td>\n",
       "      <td>Units</td>\n",
       "      <td>113835.489550</td>\n",
       "    </tr>\n",
       "    <tr>\n",
       "      <th>19899</th>\n",
       "      <td>Sweden</td>\n",
       "      <td>T_GDPEMP</td>\n",
       "      <td>GDP per person employed</td>\n",
       "      <td>USD, constant prices, 2015 PPPs</td>\n",
       "      <td>2022</td>\n",
       "      <td>USD</td>\n",
       "      <td>US Dollar</td>\n",
       "      <td>Units</td>\n",
       "      <td>106655.562460</td>\n",
       "    </tr>\n",
       "    <tr>\n",
       "      <th>4419</th>\n",
       "      <td>Denmark</td>\n",
       "      <td>T_GDPEMP</td>\n",
       "      <td>GDP per person employed</td>\n",
       "      <td>USD, constant prices, 2015 PPPs</td>\n",
       "      <td>2022</td>\n",
       "      <td>USD</td>\n",
       "      <td>US Dollar</td>\n",
       "      <td>Units</td>\n",
       "      <td>103303.449370</td>\n",
       "    </tr>\n",
       "    <tr>\n",
       "      <th>1390</th>\n",
       "      <td>Austria</td>\n",
       "      <td>T_GDPEMP</td>\n",
       "      <td>GDP per person employed</td>\n",
       "      <td>USD, constant prices, 2015 PPPs</td>\n",
       "      <td>2022</td>\n",
       "      <td>USD</td>\n",
       "      <td>US Dollar</td>\n",
       "      <td>Units</td>\n",
       "      <td>102725.206780</td>\n",
       "    </tr>\n",
       "    <tr>\n",
       "      <th>6115</th>\n",
       "      <td>France</td>\n",
       "      <td>T_GDPEMP</td>\n",
       "      <td>GDP per person employed</td>\n",
       "      <td>USD, constant prices, 2015 PPPs</td>\n",
       "      <td>2022</td>\n",
       "      <td>USD</td>\n",
       "      <td>US Dollar</td>\n",
       "      <td>Units</td>\n",
       "      <td>99217.479459</td>\n",
       "    </tr>\n",
       "    <tr>\n",
       "      <th>14671</th>\n",
       "      <td>Netherlands</td>\n",
       "      <td>T_GDPEMP</td>\n",
       "      <td>GDP per person employed</td>\n",
       "      <td>USD, constant prices, 2015 PPPs</td>\n",
       "      <td>2022</td>\n",
       "      <td>USD</td>\n",
       "      <td>US Dollar</td>\n",
       "      <td>Units</td>\n",
       "      <td>97038.378179</td>\n",
       "    </tr>\n",
       "    <tr>\n",
       "      <th>635</th>\n",
       "      <td>Australia</td>\n",
       "      <td>T_GDPEMP</td>\n",
       "      <td>GDP per person employed</td>\n",
       "      <td>USD, constant prices, 2015 PPPs</td>\n",
       "      <td>2022</td>\n",
       "      <td>USD</td>\n",
       "      <td>US Dollar</td>\n",
       "      <td>Units</td>\n",
       "      <td>94935.801615</td>\n",
       "    </tr>\n",
       "    <tr>\n",
       "      <th>9067</th>\n",
       "      <td>Iceland</td>\n",
       "      <td>T_GDPEMP</td>\n",
       "      <td>GDP per person employed</td>\n",
       "      <td>USD, constant prices, 2015 PPPs</td>\n",
       "      <td>2022</td>\n",
       "      <td>USD</td>\n",
       "      <td>US Dollar</td>\n",
       "      <td>Units</td>\n",
       "      <td>94390.423608</td>\n",
       "    </tr>\n",
       "    <tr>\n",
       "      <th>5267</th>\n",
       "      <td>Finland</td>\n",
       "      <td>T_GDPEMP</td>\n",
       "      <td>GDP per person employed</td>\n",
       "      <td>USD, constant prices, 2015 PPPs</td>\n",
       "      <td>2022</td>\n",
       "      <td>USD</td>\n",
       "      <td>US Dollar</td>\n",
       "      <td>Units</td>\n",
       "      <td>94087.786912</td>\n",
       "    </tr>\n",
       "    <tr>\n",
       "      <th>10763</th>\n",
       "      <td>Italy</td>\n",
       "      <td>T_GDPEMP</td>\n",
       "      <td>GDP per person employed</td>\n",
       "      <td>USD, constant prices, 2015 PPPs</td>\n",
       "      <td>2022</td>\n",
       "      <td>USD</td>\n",
       "      <td>US Dollar</td>\n",
       "      <td>Units</td>\n",
       "      <td>92508.493287</td>\n",
       "    </tr>\n",
       "    <tr>\n",
       "      <th>6963</th>\n",
       "      <td>Germany</td>\n",
       "      <td>T_GDPEMP</td>\n",
       "      <td>GDP per person employed</td>\n",
       "      <td>USD, constant prices, 2015 PPPs</td>\n",
       "      <td>2022</td>\n",
       "      <td>USD</td>\n",
       "      <td>US Dollar</td>\n",
       "      <td>Units</td>\n",
       "      <td>91987.215242</td>\n",
       "    </tr>\n",
       "    <tr>\n",
       "      <th>21595</th>\n",
       "      <td>Türkiye</td>\n",
       "      <td>T_GDPEMP</td>\n",
       "      <td>GDP per person employed</td>\n",
       "      <td>USD, constant prices, 2015 PPPs</td>\n",
       "      <td>2022</td>\n",
       "      <td>USD</td>\n",
       "      <td>US Dollar</td>\n",
       "      <td>Units</td>\n",
       "      <td>91372.137163</td>\n",
       "    </tr>\n",
       "    <tr>\n",
       "      <th>22443</th>\n",
       "      <td>United Kingdom</td>\n",
       "      <td>T_GDPEMP</td>\n",
       "      <td>GDP per person employed</td>\n",
       "      <td>USD, constant prices, 2015 PPPs</td>\n",
       "      <td>2022</td>\n",
       "      <td>USD</td>\n",
       "      <td>US Dollar</td>\n",
       "      <td>Units</td>\n",
       "      <td>91304.894576</td>\n",
       "    </tr>\n",
       "    <tr>\n",
       "      <th>26768</th>\n",
       "      <td>Israel</td>\n",
       "      <td>T_GDPEMP</td>\n",
       "      <td>GDP per person employed</td>\n",
       "      <td>USD, constant prices, 2015 PPPs</td>\n",
       "      <td>2022</td>\n",
       "      <td>USD</td>\n",
       "      <td>US Dollar</td>\n",
       "      <td>Units</td>\n",
       "      <td>89903.362365</td>\n",
       "    </tr>\n",
       "    <tr>\n",
       "      <th>3055</th>\n",
       "      <td>Canada</td>\n",
       "      <td>T_GDPEMP</td>\n",
       "      <td>GDP per person employed</td>\n",
       "      <td>USD, constant prices, 2015 PPPs</td>\n",
       "      <td>2022</td>\n",
       "      <td>USD</td>\n",
       "      <td>US Dollar</td>\n",
       "      <td>Units</td>\n",
       "      <td>89885.921700</td>\n",
       "    </tr>\n",
       "    <tr>\n",
       "      <th>19051</th>\n",
       "      <td>Spain</td>\n",
       "      <td>T_GDPEMP</td>\n",
       "      <td>GDP per person employed</td>\n",
       "      <td>USD, constant prices, 2015 PPPs</td>\n",
       "      <td>2022</td>\n",
       "      <td>USD</td>\n",
       "      <td>US Dollar</td>\n",
       "      <td>Units</td>\n",
       "      <td>86331.699259</td>\n",
       "    </tr>\n",
       "    <tr>\n",
       "      <th>12336</th>\n",
       "      <td>Korea</td>\n",
       "      <td>T_GDPEMP</td>\n",
       "      <td>GDP per person employed</td>\n",
       "      <td>USD, constant prices, 2015 PPPs</td>\n",
       "      <td>2022</td>\n",
       "      <td>USD</td>\n",
       "      <td>US Dollar</td>\n",
       "      <td>Units</td>\n",
       "      <td>81575.772330</td>\n",
       "    </tr>\n",
       "    <tr>\n",
       "      <th>16960</th>\n",
       "      <td>Poland</td>\n",
       "      <td>T_GDPEMP</td>\n",
       "      <td>GDP per person employed</td>\n",
       "      <td>USD, constant prices, 2015 PPPs</td>\n",
       "      <td>2022</td>\n",
       "      <td>USD</td>\n",
       "      <td>US Dollar</td>\n",
       "      <td>Units</td>\n",
       "      <td>79631.694980</td>\n",
       "    </tr>\n",
       "    <tr>\n",
       "      <th>18296</th>\n",
       "      <td>Slovak Republic</td>\n",
       "      <td>T_GDPEMP</td>\n",
       "      <td>GDP per person employed</td>\n",
       "      <td>USD, constant prices, 2015 PPPs</td>\n",
       "      <td>2022</td>\n",
       "      <td>USD</td>\n",
       "      <td>US Dollar</td>\n",
       "      <td>Units</td>\n",
       "      <td>77450.033927</td>\n",
       "    </tr>\n",
       "    <tr>\n",
       "      <th>11611</th>\n",
       "      <td>Japan</td>\n",
       "      <td>T_GDPEMP</td>\n",
       "      <td>GDP per person employed</td>\n",
       "      <td>USD, constant prices, 2015 PPPs</td>\n",
       "      <td>2022</td>\n",
       "      <td>USD</td>\n",
       "      <td>US Dollar</td>\n",
       "      <td>Units</td>\n",
       "      <td>77211.524445</td>\n",
       "    </tr>\n",
       "    <tr>\n",
       "      <th>27753</th>\n",
       "      <td>Slovenia</td>\n",
       "      <td>T_GDPEMP</td>\n",
       "      <td>GDP per person employed</td>\n",
       "      <td>USD, constant prices, 2015 PPPs</td>\n",
       "      <td>2022</td>\n",
       "      <td>USD</td>\n",
       "      <td>US Dollar</td>\n",
       "      <td>Units</td>\n",
       "      <td>77158.969390</td>\n",
       "    </tr>\n",
       "    <tr>\n",
       "      <th>15519</th>\n",
       "      <td>New Zealand</td>\n",
       "      <td>T_GDPEMP</td>\n",
       "      <td>GDP per person employed</td>\n",
       "      <td>USD, constant prices, 2015 PPPs</td>\n",
       "      <td>2022</td>\n",
       "      <td>USD</td>\n",
       "      <td>US Dollar</td>\n",
       "      <td>Units</td>\n",
       "      <td>75929.730813</td>\n",
       "    </tr>\n",
       "    <tr>\n",
       "      <th>3654</th>\n",
       "      <td>Czech Republic</td>\n",
       "      <td>T_GDPEMP</td>\n",
       "      <td>GDP per person employed</td>\n",
       "      <td>USD, constant prices, 2015 PPPs</td>\n",
       "      <td>2022</td>\n",
       "      <td>USD</td>\n",
       "      <td>US Dollar</td>\n",
       "      <td>Units</td>\n",
       "      <td>75420.502026</td>\n",
       "    </tr>\n",
       "    <tr>\n",
       "      <th>44203</th>\n",
       "      <td>Lithuania</td>\n",
       "      <td>T_GDPEMP</td>\n",
       "      <td>GDP per person employed</td>\n",
       "      <td>USD, constant prices, 2015 PPPs</td>\n",
       "      <td>2022</td>\n",
       "      <td>USD</td>\n",
       "      <td>US Dollar</td>\n",
       "      <td>Units</td>\n",
       "      <td>72383.667214</td>\n",
       "    </tr>\n",
       "    <tr>\n",
       "      <th>25391</th>\n",
       "      <td>Estonia</td>\n",
       "      <td>T_GDPEMP</td>\n",
       "      <td>GDP per person employed</td>\n",
       "      <td>USD, constant prices, 2015 PPPs</td>\n",
       "      <td>2022</td>\n",
       "      <td>USD</td>\n",
       "      <td>US Dollar</td>\n",
       "      <td>Units</td>\n",
       "      <td>71567.578207</td>\n",
       "    </tr>\n",
       "    <tr>\n",
       "      <th>17723</th>\n",
       "      <td>Portugal</td>\n",
       "      <td>T_GDPEMP</td>\n",
       "      <td>GDP per person employed</td>\n",
       "      <td>USD, constant prices, 2015 PPPs</td>\n",
       "      <td>2022</td>\n",
       "      <td>USD</td>\n",
       "      <td>US Dollar</td>\n",
       "      <td>Units</td>\n",
       "      <td>69829.683947</td>\n",
       "    </tr>\n",
       "    <tr>\n",
       "      <th>8303</th>\n",
       "      <td>Hungary</td>\n",
       "      <td>T_GDPEMP</td>\n",
       "      <td>GDP per person employed</td>\n",
       "      <td>USD, constant prices, 2015 PPPs</td>\n",
       "      <td>2022</td>\n",
       "      <td>USD</td>\n",
       "      <td>US Dollar</td>\n",
       "      <td>Units</td>\n",
       "      <td>69279.682269</td>\n",
       "    </tr>\n",
       "    <tr>\n",
       "      <th>43527</th>\n",
       "      <td>Latvia</td>\n",
       "      <td>T_GDPEMP</td>\n",
       "      <td>GDP per person employed</td>\n",
       "      <td>USD, constant prices, 2015 PPPs</td>\n",
       "      <td>2022</td>\n",
       "      <td>USD</td>\n",
       "      <td>US Dollar</td>\n",
       "      <td>Units</td>\n",
       "      <td>66504.385104</td>\n",
       "    </tr>\n",
       "    <tr>\n",
       "      <th>7733</th>\n",
       "      <td>Greece</td>\n",
       "      <td>T_GDPEMP</td>\n",
       "      <td>GDP per person employed</td>\n",
       "      <td>USD, constant prices, 2015 PPPs</td>\n",
       "      <td>2022</td>\n",
       "      <td>USD</td>\n",
       "      <td>US Dollar</td>\n",
       "      <td>Units</td>\n",
       "      <td>63382.420392</td>\n",
       "    </tr>\n",
       "    <tr>\n",
       "      <th>24272</th>\n",
       "      <td>Chile</td>\n",
       "      <td>T_GDPEMP</td>\n",
       "      <td>GDP per person employed</td>\n",
       "      <td>USD, constant prices, 2015 PPPs</td>\n",
       "      <td>2022</td>\n",
       "      <td>USD</td>\n",
       "      <td>US Dollar</td>\n",
       "      <td>Units</td>\n",
       "      <td>53234.130543</td>\n",
       "    </tr>\n",
       "    <tr>\n",
       "      <th>28352</th>\n",
       "      <td>South Africa</td>\n",
       "      <td>T_GDPEMP</td>\n",
       "      <td>GDP per person employed</td>\n",
       "      <td>USD, constant prices, 2015 PPPs</td>\n",
       "      <td>2022</td>\n",
       "      <td>USD</td>\n",
       "      <td>US Dollar</td>\n",
       "      <td>Units</td>\n",
       "      <td>50760.887726</td>\n",
       "    </tr>\n",
       "    <tr>\n",
       "      <th>45672</th>\n",
       "      <td>Costa Rica</td>\n",
       "      <td>T_GDPEMP</td>\n",
       "      <td>GDP per person employed</td>\n",
       "      <td>USD, constant prices, 2015 PPPs</td>\n",
       "      <td>2022</td>\n",
       "      <td>USD</td>\n",
       "      <td>US Dollar</td>\n",
       "      <td>Units</td>\n",
       "      <td>49282.579095</td>\n",
       "    </tr>\n",
       "    <tr>\n",
       "      <th>13865</th>\n",
       "      <td>Mexico</td>\n",
       "      <td>T_GDPEMP</td>\n",
       "      <td>GDP per person employed</td>\n",
       "      <td>USD, constant prices, 2015 PPPs</td>\n",
       "      <td>2022</td>\n",
       "      <td>USD</td>\n",
       "      <td>US Dollar</td>\n",
       "      <td>Units</td>\n",
       "      <td>41553.276335</td>\n",
       "    </tr>\n",
       "    <tr>\n",
       "      <th>24894</th>\n",
       "      <td>China</td>\n",
       "      <td>T_GDPEMP</td>\n",
       "      <td>GDP per person employed</td>\n",
       "      <td>USD, constant prices, 2015 PPPs</td>\n",
       "      <td>2022</td>\n",
       "      <td>USD</td>\n",
       "      <td>US Dollar</td>\n",
       "      <td>Units</td>\n",
       "      <td>35696.159354</td>\n",
       "    </tr>\n",
       "    <tr>\n",
       "      <th>42887</th>\n",
       "      <td>Colombia</td>\n",
       "      <td>T_GDPEMP</td>\n",
       "      <td>GDP per person employed</td>\n",
       "      <td>USD, constant prices, 2015 PPPs</td>\n",
       "      <td>2022</td>\n",
       "      <td>USD</td>\n",
       "      <td>US Dollar</td>\n",
       "      <td>Units</td>\n",
       "      <td>34335.848563</td>\n",
       "    </tr>\n",
       "    <tr>\n",
       "      <th>26113</th>\n",
       "      <td>Indonesia</td>\n",
       "      <td>T_GDPEMP</td>\n",
       "      <td>GDP per person employed</td>\n",
       "      <td>USD, constant prices, 2015 PPPs</td>\n",
       "      <td>2022</td>\n",
       "      <td>USD</td>\n",
       "      <td>US Dollar</td>\n",
       "      <td>Units</td>\n",
       "      <td>25512.687485</td>\n",
       "    </tr>\n",
       "    <tr>\n",
       "      <th>25738</th>\n",
       "      <td>India</td>\n",
       "      <td>T_GDPEMP</td>\n",
       "      <td>GDP per person employed</td>\n",
       "      <td>USD, constant prices, 2015 PPPs</td>\n",
       "      <td>2022</td>\n",
       "      <td>USD</td>\n",
       "      <td>US Dollar</td>\n",
       "      <td>Units</td>\n",
       "      <td>20159.066019</td>\n",
       "    </tr>\n",
       "  </tbody>\n",
       "</table>\n",
       "</div>"
      ],
      "text/plain": [
       "               Country   SUBJECT                  Subject  \\\n",
       "9915           Ireland  T_GDPEMP  GDP per person employed   \n",
       "13143       Luxembourg  T_GDPEMP  GDP per person employed   \n",
       "23291    United States  T_GDPEMP  GDP per person employed   \n",
       "16367           Norway  T_GDPEMP  GDP per person employed   \n",
       "20747      Switzerland  T_GDPEMP  GDP per person employed   \n",
       "2207           Belgium  T_GDPEMP  GDP per person employed   \n",
       "19899           Sweden  T_GDPEMP  GDP per person employed   \n",
       "4419           Denmark  T_GDPEMP  GDP per person employed   \n",
       "1390           Austria  T_GDPEMP  GDP per person employed   \n",
       "6115            France  T_GDPEMP  GDP per person employed   \n",
       "14671      Netherlands  T_GDPEMP  GDP per person employed   \n",
       "635          Australia  T_GDPEMP  GDP per person employed   \n",
       "9067           Iceland  T_GDPEMP  GDP per person employed   \n",
       "5267           Finland  T_GDPEMP  GDP per person employed   \n",
       "10763            Italy  T_GDPEMP  GDP per person employed   \n",
       "6963           Germany  T_GDPEMP  GDP per person employed   \n",
       "21595          Türkiye  T_GDPEMP  GDP per person employed   \n",
       "22443   United Kingdom  T_GDPEMP  GDP per person employed   \n",
       "26768           Israel  T_GDPEMP  GDP per person employed   \n",
       "3055            Canada  T_GDPEMP  GDP per person employed   \n",
       "19051            Spain  T_GDPEMP  GDP per person employed   \n",
       "12336            Korea  T_GDPEMP  GDP per person employed   \n",
       "16960           Poland  T_GDPEMP  GDP per person employed   \n",
       "18296  Slovak Republic  T_GDPEMP  GDP per person employed   \n",
       "11611            Japan  T_GDPEMP  GDP per person employed   \n",
       "27753         Slovenia  T_GDPEMP  GDP per person employed   \n",
       "15519      New Zealand  T_GDPEMP  GDP per person employed   \n",
       "3654    Czech Republic  T_GDPEMP  GDP per person employed   \n",
       "44203        Lithuania  T_GDPEMP  GDP per person employed   \n",
       "25391          Estonia  T_GDPEMP  GDP per person employed   \n",
       "17723         Portugal  T_GDPEMP  GDP per person employed   \n",
       "8303           Hungary  T_GDPEMP  GDP per person employed   \n",
       "43527           Latvia  T_GDPEMP  GDP per person employed   \n",
       "7733            Greece  T_GDPEMP  GDP per person employed   \n",
       "24272            Chile  T_GDPEMP  GDP per person employed   \n",
       "28352     South Africa  T_GDPEMP  GDP per person employed   \n",
       "45672       Costa Rica  T_GDPEMP  GDP per person employed   \n",
       "13865           Mexico  T_GDPEMP  GDP per person employed   \n",
       "24894            China  T_GDPEMP  GDP per person employed   \n",
       "42887         Colombia  T_GDPEMP  GDP per person employed   \n",
       "26113        Indonesia  T_GDPEMP  GDP per person employed   \n",
       "25738            India  T_GDPEMP  GDP per person employed   \n",
       "\n",
       "                               Measure  Time Unit Code       Unit PowerCode  \\\n",
       "9915   USD, constant prices, 2015 PPPs  2022       USD  US Dollar     Units   \n",
       "13143  USD, constant prices, 2015 PPPs  2022       USD  US Dollar     Units   \n",
       "23291  USD, constant prices, 2015 PPPs  2022       USD  US Dollar     Units   \n",
       "16367  USD, constant prices, 2015 PPPs  2022       USD  US Dollar     Units   \n",
       "20747  USD, constant prices, 2015 PPPs  2022       USD  US Dollar     Units   \n",
       "2207   USD, constant prices, 2015 PPPs  2022       USD  US Dollar     Units   \n",
       "19899  USD, constant prices, 2015 PPPs  2022       USD  US Dollar     Units   \n",
       "4419   USD, constant prices, 2015 PPPs  2022       USD  US Dollar     Units   \n",
       "1390   USD, constant prices, 2015 PPPs  2022       USD  US Dollar     Units   \n",
       "6115   USD, constant prices, 2015 PPPs  2022       USD  US Dollar     Units   \n",
       "14671  USD, constant prices, 2015 PPPs  2022       USD  US Dollar     Units   \n",
       "635    USD, constant prices, 2015 PPPs  2022       USD  US Dollar     Units   \n",
       "9067   USD, constant prices, 2015 PPPs  2022       USD  US Dollar     Units   \n",
       "5267   USD, constant prices, 2015 PPPs  2022       USD  US Dollar     Units   \n",
       "10763  USD, constant prices, 2015 PPPs  2022       USD  US Dollar     Units   \n",
       "6963   USD, constant prices, 2015 PPPs  2022       USD  US Dollar     Units   \n",
       "21595  USD, constant prices, 2015 PPPs  2022       USD  US Dollar     Units   \n",
       "22443  USD, constant prices, 2015 PPPs  2022       USD  US Dollar     Units   \n",
       "26768  USD, constant prices, 2015 PPPs  2022       USD  US Dollar     Units   \n",
       "3055   USD, constant prices, 2015 PPPs  2022       USD  US Dollar     Units   \n",
       "19051  USD, constant prices, 2015 PPPs  2022       USD  US Dollar     Units   \n",
       "12336  USD, constant prices, 2015 PPPs  2022       USD  US Dollar     Units   \n",
       "16960  USD, constant prices, 2015 PPPs  2022       USD  US Dollar     Units   \n",
       "18296  USD, constant prices, 2015 PPPs  2022       USD  US Dollar     Units   \n",
       "11611  USD, constant prices, 2015 PPPs  2022       USD  US Dollar     Units   \n",
       "27753  USD, constant prices, 2015 PPPs  2022       USD  US Dollar     Units   \n",
       "15519  USD, constant prices, 2015 PPPs  2022       USD  US Dollar     Units   \n",
       "3654   USD, constant prices, 2015 PPPs  2022       USD  US Dollar     Units   \n",
       "44203  USD, constant prices, 2015 PPPs  2022       USD  US Dollar     Units   \n",
       "25391  USD, constant prices, 2015 PPPs  2022       USD  US Dollar     Units   \n",
       "17723  USD, constant prices, 2015 PPPs  2022       USD  US Dollar     Units   \n",
       "8303   USD, constant prices, 2015 PPPs  2022       USD  US Dollar     Units   \n",
       "43527  USD, constant prices, 2015 PPPs  2022       USD  US Dollar     Units   \n",
       "7733   USD, constant prices, 2015 PPPs  2022       USD  US Dollar     Units   \n",
       "24272  USD, constant prices, 2015 PPPs  2022       USD  US Dollar     Units   \n",
       "28352  USD, constant prices, 2015 PPPs  2022       USD  US Dollar     Units   \n",
       "45672  USD, constant prices, 2015 PPPs  2022       USD  US Dollar     Units   \n",
       "13865  USD, constant prices, 2015 PPPs  2022       USD  US Dollar     Units   \n",
       "24894  USD, constant prices, 2015 PPPs  2022       USD  US Dollar     Units   \n",
       "42887  USD, constant prices, 2015 PPPs  2022       USD  US Dollar     Units   \n",
       "26113  USD, constant prices, 2015 PPPs  2022       USD  US Dollar     Units   \n",
       "25738  USD, constant prices, 2015 PPPs  2022       USD  US Dollar     Units   \n",
       "\n",
       "               Value  \n",
       "9915   219137.226430  \n",
       "13143  142580.238020  \n",
       "23291  130507.500860  \n",
       "16367  120139.210080  \n",
       "20747  116637.921090  \n",
       "2207   113835.489550  \n",
       "19899  106655.562460  \n",
       "4419   103303.449370  \n",
       "1390   102725.206780  \n",
       "6115    99217.479459  \n",
       "14671   97038.378179  \n",
       "635     94935.801615  \n",
       "9067    94390.423608  \n",
       "5267    94087.786912  \n",
       "10763   92508.493287  \n",
       "6963    91987.215242  \n",
       "21595   91372.137163  \n",
       "22443   91304.894576  \n",
       "26768   89903.362365  \n",
       "3055    89885.921700  \n",
       "19051   86331.699259  \n",
       "12336   81575.772330  \n",
       "16960   79631.694980  \n",
       "18296   77450.033927  \n",
       "11611   77211.524445  \n",
       "27753   77158.969390  \n",
       "15519   75929.730813  \n",
       "3654    75420.502026  \n",
       "44203   72383.667214  \n",
       "25391   71567.578207  \n",
       "17723   69829.683947  \n",
       "8303    69279.682269  \n",
       "43527   66504.385104  \n",
       "7733    63382.420392  \n",
       "24272   53234.130543  \n",
       "28352   50760.887726  \n",
       "45672   49282.579095  \n",
       "13865   41553.276335  \n",
       "24894   35696.159354  \n",
       "42887   34335.848563  \n",
       "26113   25512.687485  \n",
       "25738   20159.066019  "
      ]
     },
     "execution_count": 26,
     "metadata": {},
     "output_type": "execute_result"
    }
   ],
   "source": [
    "GDP_pp_employed"
   ]
  },
  {
   "cell_type": "code",
   "execution_count": 27,
   "metadata": {},
   "outputs": [],
   "source": [
    "import plotly.graph_objs as go"
   ]
  },
  {
   "cell_type": "code",
   "execution_count": 149,
   "metadata": {},
   "outputs": [
    {
     "data": {
      "application/vnd.plotly.v1+json": {
       "config": {
        "plotlyServerURL": "https://plot.ly"
       },
       "data": [
        {
         "marker": {
          "color": "rgb(55, 83, 109)"
         },
         "type": "bar",
         "x": [
          "Ireland",
          "Luxembourg",
          "United States",
          "Norway",
          "Switzerland",
          "Belgium",
          "Sweden",
          "Denmark",
          "Austria",
          "France",
          "Netherlands",
          "Australia"
         ],
         "y": [
          219137.22643,
          142580.23802,
          130507.50086,
          120139.21008,
          116637.92109,
          113835.48955,
          106655.56246,
          103303.44937,
          102725.20678,
          99217.479459,
          97038.378179,
          94935.801615
         ]
        }
       ],
       "layout": {
        "autosize": false,
        "height": 350,
        "margin": {
         "b": 50,
         "l": 50,
         "r": 20,
         "t": 50
        },
        "template": {
         "data": {
          "bar": [
           {
            "error_x": {
             "color": "#2a3f5f"
            },
            "error_y": {
             "color": "#2a3f5f"
            },
            "marker": {
             "line": {
              "color": "#E5ECF6",
              "width": 0.5
             },
             "pattern": {
              "fillmode": "overlay",
              "size": 10,
              "solidity": 0.2
             }
            },
            "type": "bar"
           }
          ],
          "barpolar": [
           {
            "marker": {
             "line": {
              "color": "#E5ECF6",
              "width": 0.5
             },
             "pattern": {
              "fillmode": "overlay",
              "size": 10,
              "solidity": 0.2
             }
            },
            "type": "barpolar"
           }
          ],
          "carpet": [
           {
            "aaxis": {
             "endlinecolor": "#2a3f5f",
             "gridcolor": "white",
             "linecolor": "white",
             "minorgridcolor": "white",
             "startlinecolor": "#2a3f5f"
            },
            "baxis": {
             "endlinecolor": "#2a3f5f",
             "gridcolor": "white",
             "linecolor": "white",
             "minorgridcolor": "white",
             "startlinecolor": "#2a3f5f"
            },
            "type": "carpet"
           }
          ],
          "choropleth": [
           {
            "colorbar": {
             "outlinewidth": 0,
             "ticks": ""
            },
            "type": "choropleth"
           }
          ],
          "contour": [
           {
            "colorbar": {
             "outlinewidth": 0,
             "ticks": ""
            },
            "colorscale": [
             [
              0,
              "#0d0887"
             ],
             [
              0.1111111111111111,
              "#46039f"
             ],
             [
              0.2222222222222222,
              "#7201a8"
             ],
             [
              0.3333333333333333,
              "#9c179e"
             ],
             [
              0.4444444444444444,
              "#bd3786"
             ],
             [
              0.5555555555555556,
              "#d8576b"
             ],
             [
              0.6666666666666666,
              "#ed7953"
             ],
             [
              0.7777777777777778,
              "#fb9f3a"
             ],
             [
              0.8888888888888888,
              "#fdca26"
             ],
             [
              1,
              "#f0f921"
             ]
            ],
            "type": "contour"
           }
          ],
          "contourcarpet": [
           {
            "colorbar": {
             "outlinewidth": 0,
             "ticks": ""
            },
            "type": "contourcarpet"
           }
          ],
          "heatmap": [
           {
            "colorbar": {
             "outlinewidth": 0,
             "ticks": ""
            },
            "colorscale": [
             [
              0,
              "#0d0887"
             ],
             [
              0.1111111111111111,
              "#46039f"
             ],
             [
              0.2222222222222222,
              "#7201a8"
             ],
             [
              0.3333333333333333,
              "#9c179e"
             ],
             [
              0.4444444444444444,
              "#bd3786"
             ],
             [
              0.5555555555555556,
              "#d8576b"
             ],
             [
              0.6666666666666666,
              "#ed7953"
             ],
             [
              0.7777777777777778,
              "#fb9f3a"
             ],
             [
              0.8888888888888888,
              "#fdca26"
             ],
             [
              1,
              "#f0f921"
             ]
            ],
            "type": "heatmap"
           }
          ],
          "heatmapgl": [
           {
            "colorbar": {
             "outlinewidth": 0,
             "ticks": ""
            },
            "colorscale": [
             [
              0,
              "#0d0887"
             ],
             [
              0.1111111111111111,
              "#46039f"
             ],
             [
              0.2222222222222222,
              "#7201a8"
             ],
             [
              0.3333333333333333,
              "#9c179e"
             ],
             [
              0.4444444444444444,
              "#bd3786"
             ],
             [
              0.5555555555555556,
              "#d8576b"
             ],
             [
              0.6666666666666666,
              "#ed7953"
             ],
             [
              0.7777777777777778,
              "#fb9f3a"
             ],
             [
              0.8888888888888888,
              "#fdca26"
             ],
             [
              1,
              "#f0f921"
             ]
            ],
            "type": "heatmapgl"
           }
          ],
          "histogram": [
           {
            "marker": {
             "pattern": {
              "fillmode": "overlay",
              "size": 10,
              "solidity": 0.2
             }
            },
            "type": "histogram"
           }
          ],
          "histogram2d": [
           {
            "colorbar": {
             "outlinewidth": 0,
             "ticks": ""
            },
            "colorscale": [
             [
              0,
              "#0d0887"
             ],
             [
              0.1111111111111111,
              "#46039f"
             ],
             [
              0.2222222222222222,
              "#7201a8"
             ],
             [
              0.3333333333333333,
              "#9c179e"
             ],
             [
              0.4444444444444444,
              "#bd3786"
             ],
             [
              0.5555555555555556,
              "#d8576b"
             ],
             [
              0.6666666666666666,
              "#ed7953"
             ],
             [
              0.7777777777777778,
              "#fb9f3a"
             ],
             [
              0.8888888888888888,
              "#fdca26"
             ],
             [
              1,
              "#f0f921"
             ]
            ],
            "type": "histogram2d"
           }
          ],
          "histogram2dcontour": [
           {
            "colorbar": {
             "outlinewidth": 0,
             "ticks": ""
            },
            "colorscale": [
             [
              0,
              "#0d0887"
             ],
             [
              0.1111111111111111,
              "#46039f"
             ],
             [
              0.2222222222222222,
              "#7201a8"
             ],
             [
              0.3333333333333333,
              "#9c179e"
             ],
             [
              0.4444444444444444,
              "#bd3786"
             ],
             [
              0.5555555555555556,
              "#d8576b"
             ],
             [
              0.6666666666666666,
              "#ed7953"
             ],
             [
              0.7777777777777778,
              "#fb9f3a"
             ],
             [
              0.8888888888888888,
              "#fdca26"
             ],
             [
              1,
              "#f0f921"
             ]
            ],
            "type": "histogram2dcontour"
           }
          ],
          "mesh3d": [
           {
            "colorbar": {
             "outlinewidth": 0,
             "ticks": ""
            },
            "type": "mesh3d"
           }
          ],
          "parcoords": [
           {
            "line": {
             "colorbar": {
              "outlinewidth": 0,
              "ticks": ""
             }
            },
            "type": "parcoords"
           }
          ],
          "pie": [
           {
            "automargin": true,
            "type": "pie"
           }
          ],
          "scatter": [
           {
            "fillpattern": {
             "fillmode": "overlay",
             "size": 10,
             "solidity": 0.2
            },
            "type": "scatter"
           }
          ],
          "scatter3d": [
           {
            "line": {
             "colorbar": {
              "outlinewidth": 0,
              "ticks": ""
             }
            },
            "marker": {
             "colorbar": {
              "outlinewidth": 0,
              "ticks": ""
             }
            },
            "type": "scatter3d"
           }
          ],
          "scattercarpet": [
           {
            "marker": {
             "colorbar": {
              "outlinewidth": 0,
              "ticks": ""
             }
            },
            "type": "scattercarpet"
           }
          ],
          "scattergeo": [
           {
            "marker": {
             "colorbar": {
              "outlinewidth": 0,
              "ticks": ""
             }
            },
            "type": "scattergeo"
           }
          ],
          "scattergl": [
           {
            "marker": {
             "colorbar": {
              "outlinewidth": 0,
              "ticks": ""
             }
            },
            "type": "scattergl"
           }
          ],
          "scattermapbox": [
           {
            "marker": {
             "colorbar": {
              "outlinewidth": 0,
              "ticks": ""
             }
            },
            "type": "scattermapbox"
           }
          ],
          "scatterpolar": [
           {
            "marker": {
             "colorbar": {
              "outlinewidth": 0,
              "ticks": ""
             }
            },
            "type": "scatterpolar"
           }
          ],
          "scatterpolargl": [
           {
            "marker": {
             "colorbar": {
              "outlinewidth": 0,
              "ticks": ""
             }
            },
            "type": "scatterpolargl"
           }
          ],
          "scatterternary": [
           {
            "marker": {
             "colorbar": {
              "outlinewidth": 0,
              "ticks": ""
             }
            },
            "type": "scatterternary"
           }
          ],
          "surface": [
           {
            "colorbar": {
             "outlinewidth": 0,
             "ticks": ""
            },
            "colorscale": [
             [
              0,
              "#0d0887"
             ],
             [
              0.1111111111111111,
              "#46039f"
             ],
             [
              0.2222222222222222,
              "#7201a8"
             ],
             [
              0.3333333333333333,
              "#9c179e"
             ],
             [
              0.4444444444444444,
              "#bd3786"
             ],
             [
              0.5555555555555556,
              "#d8576b"
             ],
             [
              0.6666666666666666,
              "#ed7953"
             ],
             [
              0.7777777777777778,
              "#fb9f3a"
             ],
             [
              0.8888888888888888,
              "#fdca26"
             ],
             [
              1,
              "#f0f921"
             ]
            ],
            "type": "surface"
           }
          ],
          "table": [
           {
            "cells": {
             "fill": {
              "color": "#EBF0F8"
             },
             "line": {
              "color": "white"
             }
            },
            "header": {
             "fill": {
              "color": "#C8D4E3"
             },
             "line": {
              "color": "white"
             }
            },
            "type": "table"
           }
          ]
         },
         "layout": {
          "annotationdefaults": {
           "arrowcolor": "#2a3f5f",
           "arrowhead": 0,
           "arrowwidth": 1
          },
          "autotypenumbers": "strict",
          "coloraxis": {
           "colorbar": {
            "outlinewidth": 0,
            "ticks": ""
           }
          },
          "colorscale": {
           "diverging": [
            [
             0,
             "#8e0152"
            ],
            [
             0.1,
             "#c51b7d"
            ],
            [
             0.2,
             "#de77ae"
            ],
            [
             0.3,
             "#f1b6da"
            ],
            [
             0.4,
             "#fde0ef"
            ],
            [
             0.5,
             "#f7f7f7"
            ],
            [
             0.6,
             "#e6f5d0"
            ],
            [
             0.7,
             "#b8e186"
            ],
            [
             0.8,
             "#7fbc41"
            ],
            [
             0.9,
             "#4d9221"
            ],
            [
             1,
             "#276419"
            ]
           ],
           "sequential": [
            [
             0,
             "#0d0887"
            ],
            [
             0.1111111111111111,
             "#46039f"
            ],
            [
             0.2222222222222222,
             "#7201a8"
            ],
            [
             0.3333333333333333,
             "#9c179e"
            ],
            [
             0.4444444444444444,
             "#bd3786"
            ],
            [
             0.5555555555555556,
             "#d8576b"
            ],
            [
             0.6666666666666666,
             "#ed7953"
            ],
            [
             0.7777777777777778,
             "#fb9f3a"
            ],
            [
             0.8888888888888888,
             "#fdca26"
            ],
            [
             1,
             "#f0f921"
            ]
           ],
           "sequentialminus": [
            [
             0,
             "#0d0887"
            ],
            [
             0.1111111111111111,
             "#46039f"
            ],
            [
             0.2222222222222222,
             "#7201a8"
            ],
            [
             0.3333333333333333,
             "#9c179e"
            ],
            [
             0.4444444444444444,
             "#bd3786"
            ],
            [
             0.5555555555555556,
             "#d8576b"
            ],
            [
             0.6666666666666666,
             "#ed7953"
            ],
            [
             0.7777777777777778,
             "#fb9f3a"
            ],
            [
             0.8888888888888888,
             "#fdca26"
            ],
            [
             1,
             "#f0f921"
            ]
           ]
          },
          "colorway": [
           "#636efa",
           "#EF553B",
           "#00cc96",
           "#ab63fa",
           "#FFA15A",
           "#19d3f3",
           "#FF6692",
           "#B6E880",
           "#FF97FF",
           "#FECB52"
          ],
          "font": {
           "color": "#2a3f5f"
          },
          "geo": {
           "bgcolor": "white",
           "lakecolor": "white",
           "landcolor": "#E5ECF6",
           "showlakes": true,
           "showland": true,
           "subunitcolor": "white"
          },
          "hoverlabel": {
           "align": "left"
          },
          "hovermode": "closest",
          "mapbox": {
           "style": "light"
          },
          "paper_bgcolor": "white",
          "plot_bgcolor": "#E5ECF6",
          "polar": {
           "angularaxis": {
            "gridcolor": "white",
            "linecolor": "white",
            "ticks": ""
           },
           "bgcolor": "#E5ECF6",
           "radialaxis": {
            "gridcolor": "white",
            "linecolor": "white",
            "ticks": ""
           }
          },
          "scene": {
           "xaxis": {
            "backgroundcolor": "#E5ECF6",
            "gridcolor": "white",
            "gridwidth": 2,
            "linecolor": "white",
            "showbackground": true,
            "ticks": "",
            "zerolinecolor": "white"
           },
           "yaxis": {
            "backgroundcolor": "#E5ECF6",
            "gridcolor": "white",
            "gridwidth": 2,
            "linecolor": "white",
            "showbackground": true,
            "ticks": "",
            "zerolinecolor": "white"
           },
           "zaxis": {
            "backgroundcolor": "#E5ECF6",
            "gridcolor": "white",
            "gridwidth": 2,
            "linecolor": "white",
            "showbackground": true,
            "ticks": "",
            "zerolinecolor": "white"
           }
          },
          "shapedefaults": {
           "line": {
            "color": "#2a3f5f"
           }
          },
          "ternary": {
           "aaxis": {
            "gridcolor": "white",
            "linecolor": "white",
            "ticks": ""
           },
           "baxis": {
            "gridcolor": "white",
            "linecolor": "white",
            "ticks": ""
           },
           "bgcolor": "#E5ECF6",
           "caxis": {
            "gridcolor": "white",
            "linecolor": "white",
            "ticks": ""
           }
          },
          "title": {
           "x": 0.05
          },
          "xaxis": {
           "automargin": true,
           "gridcolor": "white",
           "linecolor": "white",
           "ticks": "",
           "title": {
            "standoff": 15
           },
           "zerolinecolor": "white",
           "zerolinewidth": 2
          },
          "yaxis": {
           "automargin": true,
           "gridcolor": "white",
           "linecolor": "white",
           "ticks": "",
           "title": {
            "standoff": 15
           },
           "zerolinecolor": "white",
           "zerolinewidth": 2
          }
         }
        },
        "width": 500,
        "xaxis": {
         "tickangle": 30,
         "title": {
          "text": "Countries"
         }
        },
        "yaxis": {
         "range": [
          0,
          200000
         ],
         "title": {
          "text": "GDP"
         }
        }
       }
      }
     },
     "metadata": {},
     "output_type": "display_data"
    }
   ],
   "source": [
    "subset_data = GDP_pp_employed[0:12]\n",
    "\n",
    "trace1 = go.Bar(\n",
    "    x=subset_data['Country'],\n",
    "    y=subset_data['Value'],\n",
    "    marker=dict(\n",
    "        color='rgb(55, 83, 109)'  \n",
    "    )\n",
    ")\n",
    "\n",
    "data = [trace1]\n",
    "layout = go.Layout(\n",
    "    #title='2022 GDP top countries',\n",
    "    xaxis=dict(title='Countries', tickangle=30),\n",
    "    yaxis=dict(title='GDP', range=[0,200000]),\n",
    "    autosize=False,  \n",
    "    width=500,  \n",
    "    height=350, \n",
    "    margin=go.layout.Margin(\n",
    "        l=50, \n",
    "        r=20, \n",
    "        b=50, \n",
    "        t=50  \n",
    "    )\n",
    ")\n",
    "\n",
    "fig = go.Figure(data=data, layout=layout)\n",
    "\n",
    "fig.show()\n"
   ]
  },
  {
   "cell_type": "code",
   "execution_count": 152,
   "metadata": {},
   "outputs": [
    {
     "data": {
      "application/vnd.plotly.v1+json": {
       "config": {
        "plotlyServerURL": "https://plot.ly"
       },
       "data": [
        {
         "marker": {
          "color": "rgb(55, 83, 109)"
         },
         "type": "bar",
         "x": [
          "Portugal",
          "Hungary",
          "Latvia",
          "Greece",
          "Chile",
          "South Africa",
          "Costa Rica",
          "Mexico",
          "China",
          "Colombia",
          "Indonesia",
          "India"
         ],
         "y": [
          69829.683947,
          69279.682269,
          66504.385104,
          63382.420392,
          53234.130543,
          50760.887726,
          49282.579095,
          41553.276335,
          35696.159354,
          34335.848563,
          25512.687485,
          20159.066019
         ]
        }
       ],
       "layout": {
        "autosize": false,
        "height": 350,
        "margin": {
         "b": 50,
         "l": 50,
         "r": 20,
         "t": 50
        },
        "template": {
         "data": {
          "bar": [
           {
            "error_x": {
             "color": "#2a3f5f"
            },
            "error_y": {
             "color": "#2a3f5f"
            },
            "marker": {
             "line": {
              "color": "#E5ECF6",
              "width": 0.5
             },
             "pattern": {
              "fillmode": "overlay",
              "size": 10,
              "solidity": 0.2
             }
            },
            "type": "bar"
           }
          ],
          "barpolar": [
           {
            "marker": {
             "line": {
              "color": "#E5ECF6",
              "width": 0.5
             },
             "pattern": {
              "fillmode": "overlay",
              "size": 10,
              "solidity": 0.2
             }
            },
            "type": "barpolar"
           }
          ],
          "carpet": [
           {
            "aaxis": {
             "endlinecolor": "#2a3f5f",
             "gridcolor": "white",
             "linecolor": "white",
             "minorgridcolor": "white",
             "startlinecolor": "#2a3f5f"
            },
            "baxis": {
             "endlinecolor": "#2a3f5f",
             "gridcolor": "white",
             "linecolor": "white",
             "minorgridcolor": "white",
             "startlinecolor": "#2a3f5f"
            },
            "type": "carpet"
           }
          ],
          "choropleth": [
           {
            "colorbar": {
             "outlinewidth": 0,
             "ticks": ""
            },
            "type": "choropleth"
           }
          ],
          "contour": [
           {
            "colorbar": {
             "outlinewidth": 0,
             "ticks": ""
            },
            "colorscale": [
             [
              0,
              "#0d0887"
             ],
             [
              0.1111111111111111,
              "#46039f"
             ],
             [
              0.2222222222222222,
              "#7201a8"
             ],
             [
              0.3333333333333333,
              "#9c179e"
             ],
             [
              0.4444444444444444,
              "#bd3786"
             ],
             [
              0.5555555555555556,
              "#d8576b"
             ],
             [
              0.6666666666666666,
              "#ed7953"
             ],
             [
              0.7777777777777778,
              "#fb9f3a"
             ],
             [
              0.8888888888888888,
              "#fdca26"
             ],
             [
              1,
              "#f0f921"
             ]
            ],
            "type": "contour"
           }
          ],
          "contourcarpet": [
           {
            "colorbar": {
             "outlinewidth": 0,
             "ticks": ""
            },
            "type": "contourcarpet"
           }
          ],
          "heatmap": [
           {
            "colorbar": {
             "outlinewidth": 0,
             "ticks": ""
            },
            "colorscale": [
             [
              0,
              "#0d0887"
             ],
             [
              0.1111111111111111,
              "#46039f"
             ],
             [
              0.2222222222222222,
              "#7201a8"
             ],
             [
              0.3333333333333333,
              "#9c179e"
             ],
             [
              0.4444444444444444,
              "#bd3786"
             ],
             [
              0.5555555555555556,
              "#d8576b"
             ],
             [
              0.6666666666666666,
              "#ed7953"
             ],
             [
              0.7777777777777778,
              "#fb9f3a"
             ],
             [
              0.8888888888888888,
              "#fdca26"
             ],
             [
              1,
              "#f0f921"
             ]
            ],
            "type": "heatmap"
           }
          ],
          "heatmapgl": [
           {
            "colorbar": {
             "outlinewidth": 0,
             "ticks": ""
            },
            "colorscale": [
             [
              0,
              "#0d0887"
             ],
             [
              0.1111111111111111,
              "#46039f"
             ],
             [
              0.2222222222222222,
              "#7201a8"
             ],
             [
              0.3333333333333333,
              "#9c179e"
             ],
             [
              0.4444444444444444,
              "#bd3786"
             ],
             [
              0.5555555555555556,
              "#d8576b"
             ],
             [
              0.6666666666666666,
              "#ed7953"
             ],
             [
              0.7777777777777778,
              "#fb9f3a"
             ],
             [
              0.8888888888888888,
              "#fdca26"
             ],
             [
              1,
              "#f0f921"
             ]
            ],
            "type": "heatmapgl"
           }
          ],
          "histogram": [
           {
            "marker": {
             "pattern": {
              "fillmode": "overlay",
              "size": 10,
              "solidity": 0.2
             }
            },
            "type": "histogram"
           }
          ],
          "histogram2d": [
           {
            "colorbar": {
             "outlinewidth": 0,
             "ticks": ""
            },
            "colorscale": [
             [
              0,
              "#0d0887"
             ],
             [
              0.1111111111111111,
              "#46039f"
             ],
             [
              0.2222222222222222,
              "#7201a8"
             ],
             [
              0.3333333333333333,
              "#9c179e"
             ],
             [
              0.4444444444444444,
              "#bd3786"
             ],
             [
              0.5555555555555556,
              "#d8576b"
             ],
             [
              0.6666666666666666,
              "#ed7953"
             ],
             [
              0.7777777777777778,
              "#fb9f3a"
             ],
             [
              0.8888888888888888,
              "#fdca26"
             ],
             [
              1,
              "#f0f921"
             ]
            ],
            "type": "histogram2d"
           }
          ],
          "histogram2dcontour": [
           {
            "colorbar": {
             "outlinewidth": 0,
             "ticks": ""
            },
            "colorscale": [
             [
              0,
              "#0d0887"
             ],
             [
              0.1111111111111111,
              "#46039f"
             ],
             [
              0.2222222222222222,
              "#7201a8"
             ],
             [
              0.3333333333333333,
              "#9c179e"
             ],
             [
              0.4444444444444444,
              "#bd3786"
             ],
             [
              0.5555555555555556,
              "#d8576b"
             ],
             [
              0.6666666666666666,
              "#ed7953"
             ],
             [
              0.7777777777777778,
              "#fb9f3a"
             ],
             [
              0.8888888888888888,
              "#fdca26"
             ],
             [
              1,
              "#f0f921"
             ]
            ],
            "type": "histogram2dcontour"
           }
          ],
          "mesh3d": [
           {
            "colorbar": {
             "outlinewidth": 0,
             "ticks": ""
            },
            "type": "mesh3d"
           }
          ],
          "parcoords": [
           {
            "line": {
             "colorbar": {
              "outlinewidth": 0,
              "ticks": ""
             }
            },
            "type": "parcoords"
           }
          ],
          "pie": [
           {
            "automargin": true,
            "type": "pie"
           }
          ],
          "scatter": [
           {
            "fillpattern": {
             "fillmode": "overlay",
             "size": 10,
             "solidity": 0.2
            },
            "type": "scatter"
           }
          ],
          "scatter3d": [
           {
            "line": {
             "colorbar": {
              "outlinewidth": 0,
              "ticks": ""
             }
            },
            "marker": {
             "colorbar": {
              "outlinewidth": 0,
              "ticks": ""
             }
            },
            "type": "scatter3d"
           }
          ],
          "scattercarpet": [
           {
            "marker": {
             "colorbar": {
              "outlinewidth": 0,
              "ticks": ""
             }
            },
            "type": "scattercarpet"
           }
          ],
          "scattergeo": [
           {
            "marker": {
             "colorbar": {
              "outlinewidth": 0,
              "ticks": ""
             }
            },
            "type": "scattergeo"
           }
          ],
          "scattergl": [
           {
            "marker": {
             "colorbar": {
              "outlinewidth": 0,
              "ticks": ""
             }
            },
            "type": "scattergl"
           }
          ],
          "scattermapbox": [
           {
            "marker": {
             "colorbar": {
              "outlinewidth": 0,
              "ticks": ""
             }
            },
            "type": "scattermapbox"
           }
          ],
          "scatterpolar": [
           {
            "marker": {
             "colorbar": {
              "outlinewidth": 0,
              "ticks": ""
             }
            },
            "type": "scatterpolar"
           }
          ],
          "scatterpolargl": [
           {
            "marker": {
             "colorbar": {
              "outlinewidth": 0,
              "ticks": ""
             }
            },
            "type": "scatterpolargl"
           }
          ],
          "scatterternary": [
           {
            "marker": {
             "colorbar": {
              "outlinewidth": 0,
              "ticks": ""
             }
            },
            "type": "scatterternary"
           }
          ],
          "surface": [
           {
            "colorbar": {
             "outlinewidth": 0,
             "ticks": ""
            },
            "colorscale": [
             [
              0,
              "#0d0887"
             ],
             [
              0.1111111111111111,
              "#46039f"
             ],
             [
              0.2222222222222222,
              "#7201a8"
             ],
             [
              0.3333333333333333,
              "#9c179e"
             ],
             [
              0.4444444444444444,
              "#bd3786"
             ],
             [
              0.5555555555555556,
              "#d8576b"
             ],
             [
              0.6666666666666666,
              "#ed7953"
             ],
             [
              0.7777777777777778,
              "#fb9f3a"
             ],
             [
              0.8888888888888888,
              "#fdca26"
             ],
             [
              1,
              "#f0f921"
             ]
            ],
            "type": "surface"
           }
          ],
          "table": [
           {
            "cells": {
             "fill": {
              "color": "#EBF0F8"
             },
             "line": {
              "color": "white"
             }
            },
            "header": {
             "fill": {
              "color": "#C8D4E3"
             },
             "line": {
              "color": "white"
             }
            },
            "type": "table"
           }
          ]
         },
         "layout": {
          "annotationdefaults": {
           "arrowcolor": "#2a3f5f",
           "arrowhead": 0,
           "arrowwidth": 1
          },
          "autotypenumbers": "strict",
          "coloraxis": {
           "colorbar": {
            "outlinewidth": 0,
            "ticks": ""
           }
          },
          "colorscale": {
           "diverging": [
            [
             0,
             "#8e0152"
            ],
            [
             0.1,
             "#c51b7d"
            ],
            [
             0.2,
             "#de77ae"
            ],
            [
             0.3,
             "#f1b6da"
            ],
            [
             0.4,
             "#fde0ef"
            ],
            [
             0.5,
             "#f7f7f7"
            ],
            [
             0.6,
             "#e6f5d0"
            ],
            [
             0.7,
             "#b8e186"
            ],
            [
             0.8,
             "#7fbc41"
            ],
            [
             0.9,
             "#4d9221"
            ],
            [
             1,
             "#276419"
            ]
           ],
           "sequential": [
            [
             0,
             "#0d0887"
            ],
            [
             0.1111111111111111,
             "#46039f"
            ],
            [
             0.2222222222222222,
             "#7201a8"
            ],
            [
             0.3333333333333333,
             "#9c179e"
            ],
            [
             0.4444444444444444,
             "#bd3786"
            ],
            [
             0.5555555555555556,
             "#d8576b"
            ],
            [
             0.6666666666666666,
             "#ed7953"
            ],
            [
             0.7777777777777778,
             "#fb9f3a"
            ],
            [
             0.8888888888888888,
             "#fdca26"
            ],
            [
             1,
             "#f0f921"
            ]
           ],
           "sequentialminus": [
            [
             0,
             "#0d0887"
            ],
            [
             0.1111111111111111,
             "#46039f"
            ],
            [
             0.2222222222222222,
             "#7201a8"
            ],
            [
             0.3333333333333333,
             "#9c179e"
            ],
            [
             0.4444444444444444,
             "#bd3786"
            ],
            [
             0.5555555555555556,
             "#d8576b"
            ],
            [
             0.6666666666666666,
             "#ed7953"
            ],
            [
             0.7777777777777778,
             "#fb9f3a"
            ],
            [
             0.8888888888888888,
             "#fdca26"
            ],
            [
             1,
             "#f0f921"
            ]
           ]
          },
          "colorway": [
           "#636efa",
           "#EF553B",
           "#00cc96",
           "#ab63fa",
           "#FFA15A",
           "#19d3f3",
           "#FF6692",
           "#B6E880",
           "#FF97FF",
           "#FECB52"
          ],
          "font": {
           "color": "#2a3f5f"
          },
          "geo": {
           "bgcolor": "white",
           "lakecolor": "white",
           "landcolor": "#E5ECF6",
           "showlakes": true,
           "showland": true,
           "subunitcolor": "white"
          },
          "hoverlabel": {
           "align": "left"
          },
          "hovermode": "closest",
          "mapbox": {
           "style": "light"
          },
          "paper_bgcolor": "white",
          "plot_bgcolor": "#E5ECF6",
          "polar": {
           "angularaxis": {
            "gridcolor": "white",
            "linecolor": "white",
            "ticks": ""
           },
           "bgcolor": "#E5ECF6",
           "radialaxis": {
            "gridcolor": "white",
            "linecolor": "white",
            "ticks": ""
           }
          },
          "scene": {
           "xaxis": {
            "backgroundcolor": "#E5ECF6",
            "gridcolor": "white",
            "gridwidth": 2,
            "linecolor": "white",
            "showbackground": true,
            "ticks": "",
            "zerolinecolor": "white"
           },
           "yaxis": {
            "backgroundcolor": "#E5ECF6",
            "gridcolor": "white",
            "gridwidth": 2,
            "linecolor": "white",
            "showbackground": true,
            "ticks": "",
            "zerolinecolor": "white"
           },
           "zaxis": {
            "backgroundcolor": "#E5ECF6",
            "gridcolor": "white",
            "gridwidth": 2,
            "linecolor": "white",
            "showbackground": true,
            "ticks": "",
            "zerolinecolor": "white"
           }
          },
          "shapedefaults": {
           "line": {
            "color": "#2a3f5f"
           }
          },
          "ternary": {
           "aaxis": {
            "gridcolor": "white",
            "linecolor": "white",
            "ticks": ""
           },
           "baxis": {
            "gridcolor": "white",
            "linecolor": "white",
            "ticks": ""
           },
           "bgcolor": "#E5ECF6",
           "caxis": {
            "gridcolor": "white",
            "linecolor": "white",
            "ticks": ""
           }
          },
          "title": {
           "x": 0.05
          },
          "xaxis": {
           "automargin": true,
           "gridcolor": "white",
           "linecolor": "white",
           "ticks": "",
           "title": {
            "standoff": 15
           },
           "zerolinecolor": "white",
           "zerolinewidth": 2
          },
          "yaxis": {
           "automargin": true,
           "gridcolor": "white",
           "linecolor": "white",
           "ticks": "",
           "title": {
            "standoff": 15
           },
           "zerolinecolor": "white",
           "zerolinewidth": 2
          }
         }
        },
        "width": 500,
        "xaxis": {
         "tickangle": 30,
         "title": {
          "text": "Countries"
         }
        },
        "yaxis": {
         "range": [
          0,
          200000
         ]
        }
       }
      }
     },
     "metadata": {},
     "output_type": "display_data"
    }
   ],
   "source": [
    "subset_data = GDP_pp_employed[30:42]\n",
    "\n",
    "trace1 = go.Bar(\n",
    "    x=subset_data['Country'],\n",
    "    y=subset_data['Value'],\n",
    "    marker=dict(\n",
    "        color='rgb(55, 83, 109)'  \n",
    "    )\n",
    ")\n",
    "\n",
    "data = [trace1]\n",
    "layout = go.Layout(\n",
    "    #title='2022 GDP bottom countries',\n",
    "    xaxis=dict(title='Countries', tickangle=30),\n",
    "    yaxis=dict(range=[0,200000]),\n",
    "    autosize=False,  \n",
    "    width=500,  \n",
    "    height=350, \n",
    "    margin=go.layout.Margin(\n",
    "        l=50, \n",
    "        r=20, \n",
    "        b=50, \n",
    "        t=50  \n",
    "    )\n",
    ")\n",
    "\n",
    "fig = go.Figure(data=data, layout=layout)\n",
    "\n",
    "fig.show()"
   ]
  },
  {
   "cell_type": "code",
   "execution_count": 29,
   "metadata": {},
   "outputs": [
    {
     "data": {
      "text/plain": [
       "42"
      ]
     },
     "execution_count": 29,
     "metadata": {},
     "output_type": "execute_result"
    }
   ],
   "source": [
    "len(data2022['Country'].unique())"
   ]
  },
  {
   "cell_type": "code",
   "execution_count": 30,
   "metadata": {},
   "outputs": [
    {
     "data": {
      "text/html": [
       "<div>\n",
       "<style scoped>\n",
       "    .dataframe tbody tr th:only-of-type {\n",
       "        vertical-align: middle;\n",
       "    }\n",
       "\n",
       "    .dataframe tbody tr th {\n",
       "        vertical-align: top;\n",
       "    }\n",
       "\n",
       "    .dataframe thead th {\n",
       "        text-align: right;\n",
       "    }\n",
       "</style>\n",
       "<table border=\"1\" class=\"dataframe\">\n",
       "  <thead>\n",
       "    <tr style=\"text-align: right;\">\n",
       "      <th></th>\n",
       "      <th>Country</th>\n",
       "      <th>SUBJECT</th>\n",
       "      <th>Subject</th>\n",
       "      <th>Measure</th>\n",
       "      <th>Time</th>\n",
       "      <th>Unit Code</th>\n",
       "      <th>Unit</th>\n",
       "      <th>PowerCode</th>\n",
       "      <th>Value</th>\n",
       "    </tr>\n",
       "  </thead>\n",
       "  <tbody>\n",
       "    <tr>\n",
       "      <th>29484</th>\n",
       "      <td>Australia</td>\n",
       "      <td>T_HRSAV</td>\n",
       "      <td>Average hours worked per person employed</td>\n",
       "      <td>Persons/Hours</td>\n",
       "      <td>2022</td>\n",
       "      <td>HOUR</td>\n",
       "      <td>Hours</td>\n",
       "      <td>Units</td>\n",
       "      <td>1690.885590</td>\n",
       "    </tr>\n",
       "    <tr>\n",
       "      <th>29870</th>\n",
       "      <td>Hungary</td>\n",
       "      <td>T_HRSAV</td>\n",
       "      <td>Average hours worked per person employed</td>\n",
       "      <td>Persons/Hours</td>\n",
       "      <td>2022</td>\n",
       "      <td>HOUR</td>\n",
       "      <td>Hours</td>\n",
       "      <td>Units</td>\n",
       "      <td>1699.521540</td>\n",
       "    </tr>\n",
       "    <tr>\n",
       "      <th>30285</th>\n",
       "      <td>United Kingdom</td>\n",
       "      <td>T_HRSAV</td>\n",
       "      <td>Average hours worked per person employed</td>\n",
       "      <td>Persons/Hours</td>\n",
       "      <td>2022</td>\n",
       "      <td>HOUR</td>\n",
       "      <td>Hours</td>\n",
       "      <td>Units</td>\n",
       "      <td>1531.714776</td>\n",
       "    </tr>\n",
       "    <tr>\n",
       "      <th>30656</th>\n",
       "      <td>Norway</td>\n",
       "      <td>T_HRSAV</td>\n",
       "      <td>Average hours worked per person employed</td>\n",
       "      <td>Persons/Hours</td>\n",
       "      <td>2022</td>\n",
       "      <td>HOUR</td>\n",
       "      <td>Hours</td>\n",
       "      <td>Units</td>\n",
       "      <td>1424.582908</td>\n",
       "    </tr>\n",
       "    <tr>\n",
       "      <th>30684</th>\n",
       "      <td>Austria</td>\n",
       "      <td>T_HRSAV</td>\n",
       "      <td>Average hours worked per person employed</td>\n",
       "      <td>Persons/Hours</td>\n",
       "      <td>2022</td>\n",
       "      <td>HOUR</td>\n",
       "      <td>Hours</td>\n",
       "      <td>Units</td>\n",
       "      <td>1443.720369</td>\n",
       "    </tr>\n",
       "    <tr>\n",
       "      <th>30998</th>\n",
       "      <td>Slovenia</td>\n",
       "      <td>T_HRSAV</td>\n",
       "      <td>Average hours worked per person employed</td>\n",
       "      <td>Persons/Hours</td>\n",
       "      <td>2022</td>\n",
       "      <td>HOUR</td>\n",
       "      <td>Hours</td>\n",
       "      <td>Units</td>\n",
       "      <td>1619.012873</td>\n",
       "    </tr>\n",
       "    <tr>\n",
       "      <th>31517</th>\n",
       "      <td>Estonia</td>\n",
       "      <td>T_HRSAV</td>\n",
       "      <td>Average hours worked per person employed</td>\n",
       "      <td>Persons/Hours</td>\n",
       "      <td>2022</td>\n",
       "      <td>HOUR</td>\n",
       "      <td>Hours</td>\n",
       "      <td>Units</td>\n",
       "      <td>1770.411485</td>\n",
       "    </tr>\n",
       "    <tr>\n",
       "      <th>31679</th>\n",
       "      <td>Slovak Republic</td>\n",
       "      <td>T_HRSAV</td>\n",
       "      <td>Average hours worked per person employed</td>\n",
       "      <td>Persons/Hours</td>\n",
       "      <td>2022</td>\n",
       "      <td>HOUR</td>\n",
       "      <td>Hours</td>\n",
       "      <td>Units</td>\n",
       "      <td>1622.066850</td>\n",
       "    </tr>\n",
       "    <tr>\n",
       "      <th>31957</th>\n",
       "      <td>Finland</td>\n",
       "      <td>T_HRSAV</td>\n",
       "      <td>Average hours worked per person employed</td>\n",
       "      <td>Persons/Hours</td>\n",
       "      <td>2022</td>\n",
       "      <td>HOUR</td>\n",
       "      <td>Hours</td>\n",
       "      <td>Units</td>\n",
       "      <td>1498.068704</td>\n",
       "    </tr>\n",
       "    <tr>\n",
       "      <th>32063</th>\n",
       "      <td>Japan</td>\n",
       "      <td>T_HRSAV</td>\n",
       "      <td>Average hours worked per person employed</td>\n",
       "      <td>Persons/Hours</td>\n",
       "      <td>2022</td>\n",
       "      <td>HOUR</td>\n",
       "      <td>Hours</td>\n",
       "      <td>Units</td>\n",
       "      <td>1606.995367</td>\n",
       "    </tr>\n",
       "    <tr>\n",
       "      <th>32291</th>\n",
       "      <td>Greece</td>\n",
       "      <td>T_HRSAV</td>\n",
       "      <td>Average hours worked per person employed</td>\n",
       "      <td>Persons/Hours</td>\n",
       "      <td>2022</td>\n",
       "      <td>HOUR</td>\n",
       "      <td>Hours</td>\n",
       "      <td>Units</td>\n",
       "      <td>1886.293958</td>\n",
       "    </tr>\n",
       "    <tr>\n",
       "      <th>33032</th>\n",
       "      <td>Korea</td>\n",
       "      <td>T_HRSAV</td>\n",
       "      <td>Average hours worked per person employed</td>\n",
       "      <td>Persons/Hours</td>\n",
       "      <td>2022</td>\n",
       "      <td>HOUR</td>\n",
       "      <td>Hours</td>\n",
       "      <td>Units</td>\n",
       "      <td>1895.791022</td>\n",
       "    </tr>\n",
       "    <tr>\n",
       "      <th>33427</th>\n",
       "      <td>Türkiye</td>\n",
       "      <td>T_HRSAV</td>\n",
       "      <td>Average hours worked per person employed</td>\n",
       "      <td>Persons/Hours</td>\n",
       "      <td>2022</td>\n",
       "      <td>HOUR</td>\n",
       "      <td>Hours</td>\n",
       "      <td>Units</td>\n",
       "      <td>1732.087617</td>\n",
       "    </tr>\n",
       "    <tr>\n",
       "      <th>33618</th>\n",
       "      <td>Italy</td>\n",
       "      <td>T_HRSAV</td>\n",
       "      <td>Average hours worked per person employed</td>\n",
       "      <td>Persons/Hours</td>\n",
       "      <td>2022</td>\n",
       "      <td>HOUR</td>\n",
       "      <td>Hours</td>\n",
       "      <td>Units</td>\n",
       "      <td>1694.452444</td>\n",
       "    </tr>\n",
       "    <tr>\n",
       "      <th>33671</th>\n",
       "      <td>New Zealand</td>\n",
       "      <td>T_HRSAV</td>\n",
       "      <td>Average hours worked per person employed</td>\n",
       "      <td>Persons/Hours</td>\n",
       "      <td>2022</td>\n",
       "      <td>HOUR</td>\n",
       "      <td>Hours</td>\n",
       "      <td>Units</td>\n",
       "      <td>1748.000000</td>\n",
       "    </tr>\n",
       "    <tr>\n",
       "      <th>34579</th>\n",
       "      <td>Netherlands</td>\n",
       "      <td>T_HRSAV</td>\n",
       "      <td>Average hours worked per person employed</td>\n",
       "      <td>Persons/Hours</td>\n",
       "      <td>2022</td>\n",
       "      <td>HOUR</td>\n",
       "      <td>Hours</td>\n",
       "      <td>Units</td>\n",
       "      <td>1427.015671</td>\n",
       "    </tr>\n",
       "    <tr>\n",
       "      <th>34632</th>\n",
       "      <td>Spain</td>\n",
       "      <td>T_HRSAV</td>\n",
       "      <td>Average hours worked per person employed</td>\n",
       "      <td>Persons/Hours</td>\n",
       "      <td>2022</td>\n",
       "      <td>HOUR</td>\n",
       "      <td>Hours</td>\n",
       "      <td>Units</td>\n",
       "      <td>1643.547475</td>\n",
       "    </tr>\n",
       "    <tr>\n",
       "      <th>35058</th>\n",
       "      <td>Denmark</td>\n",
       "      <td>T_HRSAV</td>\n",
       "      <td>Average hours worked per person employed</td>\n",
       "      <td>Persons/Hours</td>\n",
       "      <td>2022</td>\n",
       "      <td>HOUR</td>\n",
       "      <td>Hours</td>\n",
       "      <td>Units</td>\n",
       "      <td>1371.606096</td>\n",
       "    </tr>\n",
       "    <tr>\n",
       "      <th>36372</th>\n",
       "      <td>Luxembourg</td>\n",
       "      <td>T_HRSAV</td>\n",
       "      <td>Average hours worked per person employed</td>\n",
       "      <td>Persons/Hours</td>\n",
       "      <td>2022</td>\n",
       "      <td>HOUR</td>\n",
       "      <td>Hours</td>\n",
       "      <td>Units</td>\n",
       "      <td>1473.257973</td>\n",
       "    </tr>\n",
       "    <tr>\n",
       "      <th>36425</th>\n",
       "      <td>Switzerland</td>\n",
       "      <td>T_HRSAV</td>\n",
       "      <td>Average hours worked per person employed</td>\n",
       "      <td>Persons/Hours</td>\n",
       "      <td>2022</td>\n",
       "      <td>HOUR</td>\n",
       "      <td>Hours</td>\n",
       "      <td>Units</td>\n",
       "      <td>1524.706946</td>\n",
       "    </tr>\n",
       "    <tr>\n",
       "      <th>36645</th>\n",
       "      <td>France</td>\n",
       "      <td>T_HRSAV</td>\n",
       "      <td>Average hours worked per person employed</td>\n",
       "      <td>Persons/Hours</td>\n",
       "      <td>2022</td>\n",
       "      <td>HOUR</td>\n",
       "      <td>Hours</td>\n",
       "      <td>Units</td>\n",
       "      <td>1511.400222</td>\n",
       "    </tr>\n",
       "    <tr>\n",
       "      <th>36974</th>\n",
       "      <td>Canada</td>\n",
       "      <td>T_HRSAV</td>\n",
       "      <td>Average hours worked per person employed</td>\n",
       "      <td>Persons/Hours</td>\n",
       "      <td>2022</td>\n",
       "      <td>HOUR</td>\n",
       "      <td>Hours</td>\n",
       "      <td>Units</td>\n",
       "      <td>1686.174918</td>\n",
       "    </tr>\n",
       "    <tr>\n",
       "      <th>37057</th>\n",
       "      <td>Ireland</td>\n",
       "      <td>T_HRSAV</td>\n",
       "      <td>Average hours worked per person employed</td>\n",
       "      <td>Persons/Hours</td>\n",
       "      <td>2022</td>\n",
       "      <td>HOUR</td>\n",
       "      <td>Hours</td>\n",
       "      <td>Units</td>\n",
       "      <td>1657.468503</td>\n",
       "    </tr>\n",
       "    <tr>\n",
       "      <th>37206</th>\n",
       "      <td>Portugal</td>\n",
       "      <td>T_HRSAV</td>\n",
       "      <td>Average hours worked per person employed</td>\n",
       "      <td>Persons/Hours</td>\n",
       "      <td>2022</td>\n",
       "      <td>HOUR</td>\n",
       "      <td>Hours</td>\n",
       "      <td>Units</td>\n",
       "      <td>1635.095304</td>\n",
       "    </tr>\n",
       "    <tr>\n",
       "      <th>37296</th>\n",
       "      <td>Chile</td>\n",
       "      <td>T_HRSAV</td>\n",
       "      <td>Average hours worked per person employed</td>\n",
       "      <td>Persons/Hours</td>\n",
       "      <td>2022</td>\n",
       "      <td>HOUR</td>\n",
       "      <td>Hours</td>\n",
       "      <td>Units</td>\n",
       "      <td>1962.800000</td>\n",
       "    </tr>\n",
       "    <tr>\n",
       "      <th>37434</th>\n",
       "      <td>Mexico</td>\n",
       "      <td>T_HRSAV</td>\n",
       "      <td>Average hours worked per person employed</td>\n",
       "      <td>Persons/Hours</td>\n",
       "      <td>2022</td>\n",
       "      <td>HOUR</td>\n",
       "      <td>Hours</td>\n",
       "      <td>Units</td>\n",
       "      <td>2226.300445</td>\n",
       "    </tr>\n",
       "    <tr>\n",
       "      <th>37464</th>\n",
       "      <td>Czech Republic</td>\n",
       "      <td>T_HRSAV</td>\n",
       "      <td>Average hours worked per person employed</td>\n",
       "      <td>Persons/Hours</td>\n",
       "      <td>2022</td>\n",
       "      <td>HOUR</td>\n",
       "      <td>Hours</td>\n",
       "      <td>Units</td>\n",
       "      <td>1754.050330</td>\n",
       "    </tr>\n",
       "    <tr>\n",
       "      <th>38435</th>\n",
       "      <td>Israel</td>\n",
       "      <td>T_HRSAV</td>\n",
       "      <td>Average hours worked per person employed</td>\n",
       "      <td>Persons/Hours</td>\n",
       "      <td>2022</td>\n",
       "      <td>HOUR</td>\n",
       "      <td>Hours</td>\n",
       "      <td>Units</td>\n",
       "      <td>1891.900000</td>\n",
       "    </tr>\n",
       "    <tr>\n",
       "      <th>39119</th>\n",
       "      <td>United States</td>\n",
       "      <td>T_HRSAV</td>\n",
       "      <td>Average hours worked per person employed</td>\n",
       "      <td>Persons/Hours</td>\n",
       "      <td>2022</td>\n",
       "      <td>HOUR</td>\n",
       "      <td>Hours</td>\n",
       "      <td>Units</td>\n",
       "      <td>1763.864991</td>\n",
       "    </tr>\n",
       "    <tr>\n",
       "      <th>39331</th>\n",
       "      <td>Sweden</td>\n",
       "      <td>T_HRSAV</td>\n",
       "      <td>Average hours worked per person employed</td>\n",
       "      <td>Persons/Hours</td>\n",
       "      <td>2022</td>\n",
       "      <td>HOUR</td>\n",
       "      <td>Hours</td>\n",
       "      <td>Units</td>\n",
       "      <td>1440.459124</td>\n",
       "    </tr>\n",
       "    <tr>\n",
       "      <th>40045</th>\n",
       "      <td>Germany</td>\n",
       "      <td>T_HRSAV</td>\n",
       "      <td>Average hours worked per person employed</td>\n",
       "      <td>Persons/Hours</td>\n",
       "      <td>2022</td>\n",
       "      <td>HOUR</td>\n",
       "      <td>Hours</td>\n",
       "      <td>Units</td>\n",
       "      <td>1340.259063</td>\n",
       "    </tr>\n",
       "    <tr>\n",
       "      <th>40193</th>\n",
       "      <td>Belgium</td>\n",
       "      <td>T_HRSAV</td>\n",
       "      <td>Average hours worked per person employed</td>\n",
       "      <td>Persons/Hours</td>\n",
       "      <td>2022</td>\n",
       "      <td>HOUR</td>\n",
       "      <td>Hours</td>\n",
       "      <td>Units</td>\n",
       "      <td>1525.815277</td>\n",
       "    </tr>\n",
       "    <tr>\n",
       "      <th>40223</th>\n",
       "      <td>Poland</td>\n",
       "      <td>T_HRSAV</td>\n",
       "      <td>Average hours worked per person employed</td>\n",
       "      <td>Persons/Hours</td>\n",
       "      <td>2022</td>\n",
       "      <td>HOUR</td>\n",
       "      <td>Hours</td>\n",
       "      <td>Units</td>\n",
       "      <td>1814.794857</td>\n",
       "    </tr>\n",
       "    <tr>\n",
       "      <th>40429</th>\n",
       "      <td>Iceland</td>\n",
       "      <td>T_HRSAV</td>\n",
       "      <td>Average hours worked per person employed</td>\n",
       "      <td>Persons/Hours</td>\n",
       "      <td>2022</td>\n",
       "      <td>HOUR</td>\n",
       "      <td>Hours</td>\n",
       "      <td>Units</td>\n",
       "      <td>1449.219419</td>\n",
       "    </tr>\n",
       "    <tr>\n",
       "      <th>43750</th>\n",
       "      <td>Latvia</td>\n",
       "      <td>T_HRSAV</td>\n",
       "      <td>Average hours worked per person employed</td>\n",
       "      <td>Persons/Hours</td>\n",
       "      <td>2022</td>\n",
       "      <td>HOUR</td>\n",
       "      <td>Hours</td>\n",
       "      <td>Units</td>\n",
       "      <td>1553.235637</td>\n",
       "    </tr>\n",
       "    <tr>\n",
       "      <th>44424</th>\n",
       "      <td>Lithuania</td>\n",
       "      <td>T_HRSAV</td>\n",
       "      <td>Average hours worked per person employed</td>\n",
       "      <td>Persons/Hours</td>\n",
       "      <td>2022</td>\n",
       "      <td>HOUR</td>\n",
       "      <td>Hours</td>\n",
       "      <td>Units</td>\n",
       "      <td>1624.155140</td>\n",
       "    </tr>\n",
       "    <tr>\n",
       "      <th>45925</th>\n",
       "      <td>Costa Rica</td>\n",
       "      <td>T_HRSAV</td>\n",
       "      <td>Average hours worked per person employed</td>\n",
       "      <td>Persons/Hours</td>\n",
       "      <td>2022</td>\n",
       "      <td>HOUR</td>\n",
       "      <td>Hours</td>\n",
       "      <td>Units</td>\n",
       "      <td>2155.716921</td>\n",
       "    </tr>\n",
       "    <tr>\n",
       "      <th>46778</th>\n",
       "      <td>Colombia</td>\n",
       "      <td>T_HRSAV</td>\n",
       "      <td>Average hours worked per person employed</td>\n",
       "      <td>Persons/Hours</td>\n",
       "      <td>2022</td>\n",
       "      <td>HOUR</td>\n",
       "      <td>Hours</td>\n",
       "      <td>Units</td>\n",
       "      <td>2405.385474</td>\n",
       "    </tr>\n",
       "  </tbody>\n",
       "</table>\n",
       "</div>"
      ],
      "text/plain": [
       "               Country  SUBJECT                                   Subject  \\\n",
       "29484        Australia  T_HRSAV  Average hours worked per person employed   \n",
       "29870          Hungary  T_HRSAV  Average hours worked per person employed   \n",
       "30285   United Kingdom  T_HRSAV  Average hours worked per person employed   \n",
       "30656           Norway  T_HRSAV  Average hours worked per person employed   \n",
       "30684          Austria  T_HRSAV  Average hours worked per person employed   \n",
       "30998         Slovenia  T_HRSAV  Average hours worked per person employed   \n",
       "31517          Estonia  T_HRSAV  Average hours worked per person employed   \n",
       "31679  Slovak Republic  T_HRSAV  Average hours worked per person employed   \n",
       "31957          Finland  T_HRSAV  Average hours worked per person employed   \n",
       "32063            Japan  T_HRSAV  Average hours worked per person employed   \n",
       "32291           Greece  T_HRSAV  Average hours worked per person employed   \n",
       "33032            Korea  T_HRSAV  Average hours worked per person employed   \n",
       "33427          Türkiye  T_HRSAV  Average hours worked per person employed   \n",
       "33618            Italy  T_HRSAV  Average hours worked per person employed   \n",
       "33671      New Zealand  T_HRSAV  Average hours worked per person employed   \n",
       "34579      Netherlands  T_HRSAV  Average hours worked per person employed   \n",
       "34632            Spain  T_HRSAV  Average hours worked per person employed   \n",
       "35058          Denmark  T_HRSAV  Average hours worked per person employed   \n",
       "36372       Luxembourg  T_HRSAV  Average hours worked per person employed   \n",
       "36425      Switzerland  T_HRSAV  Average hours worked per person employed   \n",
       "36645           France  T_HRSAV  Average hours worked per person employed   \n",
       "36974           Canada  T_HRSAV  Average hours worked per person employed   \n",
       "37057          Ireland  T_HRSAV  Average hours worked per person employed   \n",
       "37206         Portugal  T_HRSAV  Average hours worked per person employed   \n",
       "37296            Chile  T_HRSAV  Average hours worked per person employed   \n",
       "37434           Mexico  T_HRSAV  Average hours worked per person employed   \n",
       "37464   Czech Republic  T_HRSAV  Average hours worked per person employed   \n",
       "38435           Israel  T_HRSAV  Average hours worked per person employed   \n",
       "39119    United States  T_HRSAV  Average hours worked per person employed   \n",
       "39331           Sweden  T_HRSAV  Average hours worked per person employed   \n",
       "40045          Germany  T_HRSAV  Average hours worked per person employed   \n",
       "40193          Belgium  T_HRSAV  Average hours worked per person employed   \n",
       "40223           Poland  T_HRSAV  Average hours worked per person employed   \n",
       "40429          Iceland  T_HRSAV  Average hours worked per person employed   \n",
       "43750           Latvia  T_HRSAV  Average hours worked per person employed   \n",
       "44424        Lithuania  T_HRSAV  Average hours worked per person employed   \n",
       "45925       Costa Rica  T_HRSAV  Average hours worked per person employed   \n",
       "46778         Colombia  T_HRSAV  Average hours worked per person employed   \n",
       "\n",
       "             Measure  Time Unit Code   Unit PowerCode        Value  \n",
       "29484  Persons/Hours  2022      HOUR  Hours     Units  1690.885590  \n",
       "29870  Persons/Hours  2022      HOUR  Hours     Units  1699.521540  \n",
       "30285  Persons/Hours  2022      HOUR  Hours     Units  1531.714776  \n",
       "30656  Persons/Hours  2022      HOUR  Hours     Units  1424.582908  \n",
       "30684  Persons/Hours  2022      HOUR  Hours     Units  1443.720369  \n",
       "30998  Persons/Hours  2022      HOUR  Hours     Units  1619.012873  \n",
       "31517  Persons/Hours  2022      HOUR  Hours     Units  1770.411485  \n",
       "31679  Persons/Hours  2022      HOUR  Hours     Units  1622.066850  \n",
       "31957  Persons/Hours  2022      HOUR  Hours     Units  1498.068704  \n",
       "32063  Persons/Hours  2022      HOUR  Hours     Units  1606.995367  \n",
       "32291  Persons/Hours  2022      HOUR  Hours     Units  1886.293958  \n",
       "33032  Persons/Hours  2022      HOUR  Hours     Units  1895.791022  \n",
       "33427  Persons/Hours  2022      HOUR  Hours     Units  1732.087617  \n",
       "33618  Persons/Hours  2022      HOUR  Hours     Units  1694.452444  \n",
       "33671  Persons/Hours  2022      HOUR  Hours     Units  1748.000000  \n",
       "34579  Persons/Hours  2022      HOUR  Hours     Units  1427.015671  \n",
       "34632  Persons/Hours  2022      HOUR  Hours     Units  1643.547475  \n",
       "35058  Persons/Hours  2022      HOUR  Hours     Units  1371.606096  \n",
       "36372  Persons/Hours  2022      HOUR  Hours     Units  1473.257973  \n",
       "36425  Persons/Hours  2022      HOUR  Hours     Units  1524.706946  \n",
       "36645  Persons/Hours  2022      HOUR  Hours     Units  1511.400222  \n",
       "36974  Persons/Hours  2022      HOUR  Hours     Units  1686.174918  \n",
       "37057  Persons/Hours  2022      HOUR  Hours     Units  1657.468503  \n",
       "37206  Persons/Hours  2022      HOUR  Hours     Units  1635.095304  \n",
       "37296  Persons/Hours  2022      HOUR  Hours     Units  1962.800000  \n",
       "37434  Persons/Hours  2022      HOUR  Hours     Units  2226.300445  \n",
       "37464  Persons/Hours  2022      HOUR  Hours     Units  1754.050330  \n",
       "38435  Persons/Hours  2022      HOUR  Hours     Units  1891.900000  \n",
       "39119  Persons/Hours  2022      HOUR  Hours     Units  1763.864991  \n",
       "39331  Persons/Hours  2022      HOUR  Hours     Units  1440.459124  \n",
       "40045  Persons/Hours  2022      HOUR  Hours     Units  1340.259063  \n",
       "40193  Persons/Hours  2022      HOUR  Hours     Units  1525.815277  \n",
       "40223  Persons/Hours  2022      HOUR  Hours     Units  1814.794857  \n",
       "40429  Persons/Hours  2022      HOUR  Hours     Units  1449.219419  \n",
       "43750  Persons/Hours  2022      HOUR  Hours     Units  1553.235637  \n",
       "44424  Persons/Hours  2022      HOUR  Hours     Units  1624.155140  \n",
       "45925  Persons/Hours  2022      HOUR  Hours     Units  2155.716921  \n",
       "46778  Persons/Hours  2022      HOUR  Hours     Units  2405.385474  "
      ]
     },
     "execution_count": 30,
     "metadata": {},
     "output_type": "execute_result"
    }
   ],
   "source": [
    "data2022.loc[data2022['SUBJECT']=='T_HRSAV']"
   ]
  },
  {
   "cell_type": "code",
   "execution_count": 31,
   "metadata": {},
   "outputs": [],
   "source": [
    "AVG_HRS = data2022[data2022['Measure']=='Persons/Hours'].sort_values(by='Value',ascending=False)"
   ]
  },
  {
   "cell_type": "code",
   "execution_count": 153,
   "metadata": {},
   "outputs": [
    {
     "data": {
      "application/vnd.plotly.v1+json": {
       "config": {
        "plotlyServerURL": "https://plot.ly"
       },
       "data": [
        {
         "marker": {
          "color": "rgb(55, 83, 109)"
         },
         "type": "bar",
         "x": [
          "Colombia",
          "Mexico",
          "Costa Rica",
          "Chile",
          "Korea",
          "Israel",
          "Greece",
          "Poland",
          "Estonia",
          "United States"
         ],
         "y": [
          2405.385474,
          2226.300445,
          2155.716921,
          1962.8,
          1895.791022,
          1891.9,
          1886.293958,
          1814.794857,
          1770.411485,
          1763.864991
         ]
        }
       ],
       "layout": {
        "autosize": false,
        "height": 350,
        "margin": {
         "b": 50,
         "l": 50,
         "r": 20,
         "t": 50
        },
        "template": {
         "data": {
          "bar": [
           {
            "error_x": {
             "color": "#2a3f5f"
            },
            "error_y": {
             "color": "#2a3f5f"
            },
            "marker": {
             "line": {
              "color": "#E5ECF6",
              "width": 0.5
             },
             "pattern": {
              "fillmode": "overlay",
              "size": 10,
              "solidity": 0.2
             }
            },
            "type": "bar"
           }
          ],
          "barpolar": [
           {
            "marker": {
             "line": {
              "color": "#E5ECF6",
              "width": 0.5
             },
             "pattern": {
              "fillmode": "overlay",
              "size": 10,
              "solidity": 0.2
             }
            },
            "type": "barpolar"
           }
          ],
          "carpet": [
           {
            "aaxis": {
             "endlinecolor": "#2a3f5f",
             "gridcolor": "white",
             "linecolor": "white",
             "minorgridcolor": "white",
             "startlinecolor": "#2a3f5f"
            },
            "baxis": {
             "endlinecolor": "#2a3f5f",
             "gridcolor": "white",
             "linecolor": "white",
             "minorgridcolor": "white",
             "startlinecolor": "#2a3f5f"
            },
            "type": "carpet"
           }
          ],
          "choropleth": [
           {
            "colorbar": {
             "outlinewidth": 0,
             "ticks": ""
            },
            "type": "choropleth"
           }
          ],
          "contour": [
           {
            "colorbar": {
             "outlinewidth": 0,
             "ticks": ""
            },
            "colorscale": [
             [
              0,
              "#0d0887"
             ],
             [
              0.1111111111111111,
              "#46039f"
             ],
             [
              0.2222222222222222,
              "#7201a8"
             ],
             [
              0.3333333333333333,
              "#9c179e"
             ],
             [
              0.4444444444444444,
              "#bd3786"
             ],
             [
              0.5555555555555556,
              "#d8576b"
             ],
             [
              0.6666666666666666,
              "#ed7953"
             ],
             [
              0.7777777777777778,
              "#fb9f3a"
             ],
             [
              0.8888888888888888,
              "#fdca26"
             ],
             [
              1,
              "#f0f921"
             ]
            ],
            "type": "contour"
           }
          ],
          "contourcarpet": [
           {
            "colorbar": {
             "outlinewidth": 0,
             "ticks": ""
            },
            "type": "contourcarpet"
           }
          ],
          "heatmap": [
           {
            "colorbar": {
             "outlinewidth": 0,
             "ticks": ""
            },
            "colorscale": [
             [
              0,
              "#0d0887"
             ],
             [
              0.1111111111111111,
              "#46039f"
             ],
             [
              0.2222222222222222,
              "#7201a8"
             ],
             [
              0.3333333333333333,
              "#9c179e"
             ],
             [
              0.4444444444444444,
              "#bd3786"
             ],
             [
              0.5555555555555556,
              "#d8576b"
             ],
             [
              0.6666666666666666,
              "#ed7953"
             ],
             [
              0.7777777777777778,
              "#fb9f3a"
             ],
             [
              0.8888888888888888,
              "#fdca26"
             ],
             [
              1,
              "#f0f921"
             ]
            ],
            "type": "heatmap"
           }
          ],
          "heatmapgl": [
           {
            "colorbar": {
             "outlinewidth": 0,
             "ticks": ""
            },
            "colorscale": [
             [
              0,
              "#0d0887"
             ],
             [
              0.1111111111111111,
              "#46039f"
             ],
             [
              0.2222222222222222,
              "#7201a8"
             ],
             [
              0.3333333333333333,
              "#9c179e"
             ],
             [
              0.4444444444444444,
              "#bd3786"
             ],
             [
              0.5555555555555556,
              "#d8576b"
             ],
             [
              0.6666666666666666,
              "#ed7953"
             ],
             [
              0.7777777777777778,
              "#fb9f3a"
             ],
             [
              0.8888888888888888,
              "#fdca26"
             ],
             [
              1,
              "#f0f921"
             ]
            ],
            "type": "heatmapgl"
           }
          ],
          "histogram": [
           {
            "marker": {
             "pattern": {
              "fillmode": "overlay",
              "size": 10,
              "solidity": 0.2
             }
            },
            "type": "histogram"
           }
          ],
          "histogram2d": [
           {
            "colorbar": {
             "outlinewidth": 0,
             "ticks": ""
            },
            "colorscale": [
             [
              0,
              "#0d0887"
             ],
             [
              0.1111111111111111,
              "#46039f"
             ],
             [
              0.2222222222222222,
              "#7201a8"
             ],
             [
              0.3333333333333333,
              "#9c179e"
             ],
             [
              0.4444444444444444,
              "#bd3786"
             ],
             [
              0.5555555555555556,
              "#d8576b"
             ],
             [
              0.6666666666666666,
              "#ed7953"
             ],
             [
              0.7777777777777778,
              "#fb9f3a"
             ],
             [
              0.8888888888888888,
              "#fdca26"
             ],
             [
              1,
              "#f0f921"
             ]
            ],
            "type": "histogram2d"
           }
          ],
          "histogram2dcontour": [
           {
            "colorbar": {
             "outlinewidth": 0,
             "ticks": ""
            },
            "colorscale": [
             [
              0,
              "#0d0887"
             ],
             [
              0.1111111111111111,
              "#46039f"
             ],
             [
              0.2222222222222222,
              "#7201a8"
             ],
             [
              0.3333333333333333,
              "#9c179e"
             ],
             [
              0.4444444444444444,
              "#bd3786"
             ],
             [
              0.5555555555555556,
              "#d8576b"
             ],
             [
              0.6666666666666666,
              "#ed7953"
             ],
             [
              0.7777777777777778,
              "#fb9f3a"
             ],
             [
              0.8888888888888888,
              "#fdca26"
             ],
             [
              1,
              "#f0f921"
             ]
            ],
            "type": "histogram2dcontour"
           }
          ],
          "mesh3d": [
           {
            "colorbar": {
             "outlinewidth": 0,
             "ticks": ""
            },
            "type": "mesh3d"
           }
          ],
          "parcoords": [
           {
            "line": {
             "colorbar": {
              "outlinewidth": 0,
              "ticks": ""
             }
            },
            "type": "parcoords"
           }
          ],
          "pie": [
           {
            "automargin": true,
            "type": "pie"
           }
          ],
          "scatter": [
           {
            "fillpattern": {
             "fillmode": "overlay",
             "size": 10,
             "solidity": 0.2
            },
            "type": "scatter"
           }
          ],
          "scatter3d": [
           {
            "line": {
             "colorbar": {
              "outlinewidth": 0,
              "ticks": ""
             }
            },
            "marker": {
             "colorbar": {
              "outlinewidth": 0,
              "ticks": ""
             }
            },
            "type": "scatter3d"
           }
          ],
          "scattercarpet": [
           {
            "marker": {
             "colorbar": {
              "outlinewidth": 0,
              "ticks": ""
             }
            },
            "type": "scattercarpet"
           }
          ],
          "scattergeo": [
           {
            "marker": {
             "colorbar": {
              "outlinewidth": 0,
              "ticks": ""
             }
            },
            "type": "scattergeo"
           }
          ],
          "scattergl": [
           {
            "marker": {
             "colorbar": {
              "outlinewidth": 0,
              "ticks": ""
             }
            },
            "type": "scattergl"
           }
          ],
          "scattermapbox": [
           {
            "marker": {
             "colorbar": {
              "outlinewidth": 0,
              "ticks": ""
             }
            },
            "type": "scattermapbox"
           }
          ],
          "scatterpolar": [
           {
            "marker": {
             "colorbar": {
              "outlinewidth": 0,
              "ticks": ""
             }
            },
            "type": "scatterpolar"
           }
          ],
          "scatterpolargl": [
           {
            "marker": {
             "colorbar": {
              "outlinewidth": 0,
              "ticks": ""
             }
            },
            "type": "scatterpolargl"
           }
          ],
          "scatterternary": [
           {
            "marker": {
             "colorbar": {
              "outlinewidth": 0,
              "ticks": ""
             }
            },
            "type": "scatterternary"
           }
          ],
          "surface": [
           {
            "colorbar": {
             "outlinewidth": 0,
             "ticks": ""
            },
            "colorscale": [
             [
              0,
              "#0d0887"
             ],
             [
              0.1111111111111111,
              "#46039f"
             ],
             [
              0.2222222222222222,
              "#7201a8"
             ],
             [
              0.3333333333333333,
              "#9c179e"
             ],
             [
              0.4444444444444444,
              "#bd3786"
             ],
             [
              0.5555555555555556,
              "#d8576b"
             ],
             [
              0.6666666666666666,
              "#ed7953"
             ],
             [
              0.7777777777777778,
              "#fb9f3a"
             ],
             [
              0.8888888888888888,
              "#fdca26"
             ],
             [
              1,
              "#f0f921"
             ]
            ],
            "type": "surface"
           }
          ],
          "table": [
           {
            "cells": {
             "fill": {
              "color": "#EBF0F8"
             },
             "line": {
              "color": "white"
             }
            },
            "header": {
             "fill": {
              "color": "#C8D4E3"
             },
             "line": {
              "color": "white"
             }
            },
            "type": "table"
           }
          ]
         },
         "layout": {
          "annotationdefaults": {
           "arrowcolor": "#2a3f5f",
           "arrowhead": 0,
           "arrowwidth": 1
          },
          "autotypenumbers": "strict",
          "coloraxis": {
           "colorbar": {
            "outlinewidth": 0,
            "ticks": ""
           }
          },
          "colorscale": {
           "diverging": [
            [
             0,
             "#8e0152"
            ],
            [
             0.1,
             "#c51b7d"
            ],
            [
             0.2,
             "#de77ae"
            ],
            [
             0.3,
             "#f1b6da"
            ],
            [
             0.4,
             "#fde0ef"
            ],
            [
             0.5,
             "#f7f7f7"
            ],
            [
             0.6,
             "#e6f5d0"
            ],
            [
             0.7,
             "#b8e186"
            ],
            [
             0.8,
             "#7fbc41"
            ],
            [
             0.9,
             "#4d9221"
            ],
            [
             1,
             "#276419"
            ]
           ],
           "sequential": [
            [
             0,
             "#0d0887"
            ],
            [
             0.1111111111111111,
             "#46039f"
            ],
            [
             0.2222222222222222,
             "#7201a8"
            ],
            [
             0.3333333333333333,
             "#9c179e"
            ],
            [
             0.4444444444444444,
             "#bd3786"
            ],
            [
             0.5555555555555556,
             "#d8576b"
            ],
            [
             0.6666666666666666,
             "#ed7953"
            ],
            [
             0.7777777777777778,
             "#fb9f3a"
            ],
            [
             0.8888888888888888,
             "#fdca26"
            ],
            [
             1,
             "#f0f921"
            ]
           ],
           "sequentialminus": [
            [
             0,
             "#0d0887"
            ],
            [
             0.1111111111111111,
             "#46039f"
            ],
            [
             0.2222222222222222,
             "#7201a8"
            ],
            [
             0.3333333333333333,
             "#9c179e"
            ],
            [
             0.4444444444444444,
             "#bd3786"
            ],
            [
             0.5555555555555556,
             "#d8576b"
            ],
            [
             0.6666666666666666,
             "#ed7953"
            ],
            [
             0.7777777777777778,
             "#fb9f3a"
            ],
            [
             0.8888888888888888,
             "#fdca26"
            ],
            [
             1,
             "#f0f921"
            ]
           ]
          },
          "colorway": [
           "#636efa",
           "#EF553B",
           "#00cc96",
           "#ab63fa",
           "#FFA15A",
           "#19d3f3",
           "#FF6692",
           "#B6E880",
           "#FF97FF",
           "#FECB52"
          ],
          "font": {
           "color": "#2a3f5f"
          },
          "geo": {
           "bgcolor": "white",
           "lakecolor": "white",
           "landcolor": "#E5ECF6",
           "showlakes": true,
           "showland": true,
           "subunitcolor": "white"
          },
          "hoverlabel": {
           "align": "left"
          },
          "hovermode": "closest",
          "mapbox": {
           "style": "light"
          },
          "paper_bgcolor": "white",
          "plot_bgcolor": "#E5ECF6",
          "polar": {
           "angularaxis": {
            "gridcolor": "white",
            "linecolor": "white",
            "ticks": ""
           },
           "bgcolor": "#E5ECF6",
           "radialaxis": {
            "gridcolor": "white",
            "linecolor": "white",
            "ticks": ""
           }
          },
          "scene": {
           "xaxis": {
            "backgroundcolor": "#E5ECF6",
            "gridcolor": "white",
            "gridwidth": 2,
            "linecolor": "white",
            "showbackground": true,
            "ticks": "",
            "zerolinecolor": "white"
           },
           "yaxis": {
            "backgroundcolor": "#E5ECF6",
            "gridcolor": "white",
            "gridwidth": 2,
            "linecolor": "white",
            "showbackground": true,
            "ticks": "",
            "zerolinecolor": "white"
           },
           "zaxis": {
            "backgroundcolor": "#E5ECF6",
            "gridcolor": "white",
            "gridwidth": 2,
            "linecolor": "white",
            "showbackground": true,
            "ticks": "",
            "zerolinecolor": "white"
           }
          },
          "shapedefaults": {
           "line": {
            "color": "#2a3f5f"
           }
          },
          "ternary": {
           "aaxis": {
            "gridcolor": "white",
            "linecolor": "white",
            "ticks": ""
           },
           "baxis": {
            "gridcolor": "white",
            "linecolor": "white",
            "ticks": ""
           },
           "bgcolor": "#E5ECF6",
           "caxis": {
            "gridcolor": "white",
            "linecolor": "white",
            "ticks": ""
           }
          },
          "title": {
           "x": 0.05
          },
          "xaxis": {
           "automargin": true,
           "gridcolor": "white",
           "linecolor": "white",
           "ticks": "",
           "title": {
            "standoff": 15
           },
           "zerolinecolor": "white",
           "zerolinewidth": 2
          },
          "yaxis": {
           "automargin": true,
           "gridcolor": "white",
           "linecolor": "white",
           "ticks": "",
           "title": {
            "standoff": 15
           },
           "zerolinecolor": "white",
           "zerolinewidth": 2
          }
         }
        },
        "width": 500,
        "xaxis": {
         "tickangle": 30,
         "title": {
          "text": "Countries"
         }
        },
        "yaxis": {
         "range": [
          0,
          2500
         ],
         "title": {
          "text": "Hours"
         }
        }
       }
      }
     },
     "metadata": {},
     "output_type": "display_data"
    }
   ],
   "source": [
    "subset_data = AVG_HRS[0:10]\n",
    "\n",
    "trace1 = go.Bar(\n",
    "    x=subset_data['Country'],\n",
    "    y=subset_data['Value'],\n",
    "    marker=dict(\n",
    "        color='rgb(55, 83, 109)'  \n",
    "    )\n",
    ")\n",
    "\n",
    "data = [trace1]\n",
    "layout = go.Layout(\n",
    "    #title='2022 Average hours worked bottom countries',\n",
    "    xaxis=dict(title='Countries', tickangle=30),\n",
    "    yaxis=dict(title='Hours', range=[0,2500]),\n",
    "    autosize=False,  \n",
    "    width=500,  \n",
    "    height=350, \n",
    "    margin=go.layout.Margin(\n",
    "        l=50, \n",
    "        r=20, \n",
    "        b=50, \n",
    "        t=50  \n",
    "    )\n",
    ")\n",
    "\n",
    "fig = go.Figure(data=data, layout=layout)\n",
    "\n",
    "fig.show()\n"
   ]
  },
  {
   "cell_type": "code",
   "execution_count": 154,
   "metadata": {},
   "outputs": [
    {
     "data": {
      "application/vnd.plotly.v1+json": {
       "config": {
        "plotlyServerURL": "https://plot.ly"
       },
       "data": [
        {
         "marker": {
          "color": "rgb(55, 83, 109)"
         },
         "type": "bar",
         "x": [
          "France",
          "Finland",
          "Luxembourg",
          "Iceland",
          "Austria",
          "Sweden",
          "Netherlands",
          "Norway",
          "Denmark",
          "Germany"
         ],
         "y": [
          1511.400222,
          1498.068704,
          1473.257973,
          1449.219419,
          1443.720369,
          1440.459124,
          1427.015671,
          1424.582908,
          1371.606096,
          1340.259063
         ]
        }
       ],
       "layout": {
        "autosize": false,
        "height": 350,
        "margin": {
         "b": 50,
         "l": 50,
         "r": 20,
         "t": 50
        },
        "template": {
         "data": {
          "bar": [
           {
            "error_x": {
             "color": "#2a3f5f"
            },
            "error_y": {
             "color": "#2a3f5f"
            },
            "marker": {
             "line": {
              "color": "#E5ECF6",
              "width": 0.5
             },
             "pattern": {
              "fillmode": "overlay",
              "size": 10,
              "solidity": 0.2
             }
            },
            "type": "bar"
           }
          ],
          "barpolar": [
           {
            "marker": {
             "line": {
              "color": "#E5ECF6",
              "width": 0.5
             },
             "pattern": {
              "fillmode": "overlay",
              "size": 10,
              "solidity": 0.2
             }
            },
            "type": "barpolar"
           }
          ],
          "carpet": [
           {
            "aaxis": {
             "endlinecolor": "#2a3f5f",
             "gridcolor": "white",
             "linecolor": "white",
             "minorgridcolor": "white",
             "startlinecolor": "#2a3f5f"
            },
            "baxis": {
             "endlinecolor": "#2a3f5f",
             "gridcolor": "white",
             "linecolor": "white",
             "minorgridcolor": "white",
             "startlinecolor": "#2a3f5f"
            },
            "type": "carpet"
           }
          ],
          "choropleth": [
           {
            "colorbar": {
             "outlinewidth": 0,
             "ticks": ""
            },
            "type": "choropleth"
           }
          ],
          "contour": [
           {
            "colorbar": {
             "outlinewidth": 0,
             "ticks": ""
            },
            "colorscale": [
             [
              0,
              "#0d0887"
             ],
             [
              0.1111111111111111,
              "#46039f"
             ],
             [
              0.2222222222222222,
              "#7201a8"
             ],
             [
              0.3333333333333333,
              "#9c179e"
             ],
             [
              0.4444444444444444,
              "#bd3786"
             ],
             [
              0.5555555555555556,
              "#d8576b"
             ],
             [
              0.6666666666666666,
              "#ed7953"
             ],
             [
              0.7777777777777778,
              "#fb9f3a"
             ],
             [
              0.8888888888888888,
              "#fdca26"
             ],
             [
              1,
              "#f0f921"
             ]
            ],
            "type": "contour"
           }
          ],
          "contourcarpet": [
           {
            "colorbar": {
             "outlinewidth": 0,
             "ticks": ""
            },
            "type": "contourcarpet"
           }
          ],
          "heatmap": [
           {
            "colorbar": {
             "outlinewidth": 0,
             "ticks": ""
            },
            "colorscale": [
             [
              0,
              "#0d0887"
             ],
             [
              0.1111111111111111,
              "#46039f"
             ],
             [
              0.2222222222222222,
              "#7201a8"
             ],
             [
              0.3333333333333333,
              "#9c179e"
             ],
             [
              0.4444444444444444,
              "#bd3786"
             ],
             [
              0.5555555555555556,
              "#d8576b"
             ],
             [
              0.6666666666666666,
              "#ed7953"
             ],
             [
              0.7777777777777778,
              "#fb9f3a"
             ],
             [
              0.8888888888888888,
              "#fdca26"
             ],
             [
              1,
              "#f0f921"
             ]
            ],
            "type": "heatmap"
           }
          ],
          "heatmapgl": [
           {
            "colorbar": {
             "outlinewidth": 0,
             "ticks": ""
            },
            "colorscale": [
             [
              0,
              "#0d0887"
             ],
             [
              0.1111111111111111,
              "#46039f"
             ],
             [
              0.2222222222222222,
              "#7201a8"
             ],
             [
              0.3333333333333333,
              "#9c179e"
             ],
             [
              0.4444444444444444,
              "#bd3786"
             ],
             [
              0.5555555555555556,
              "#d8576b"
             ],
             [
              0.6666666666666666,
              "#ed7953"
             ],
             [
              0.7777777777777778,
              "#fb9f3a"
             ],
             [
              0.8888888888888888,
              "#fdca26"
             ],
             [
              1,
              "#f0f921"
             ]
            ],
            "type": "heatmapgl"
           }
          ],
          "histogram": [
           {
            "marker": {
             "pattern": {
              "fillmode": "overlay",
              "size": 10,
              "solidity": 0.2
             }
            },
            "type": "histogram"
           }
          ],
          "histogram2d": [
           {
            "colorbar": {
             "outlinewidth": 0,
             "ticks": ""
            },
            "colorscale": [
             [
              0,
              "#0d0887"
             ],
             [
              0.1111111111111111,
              "#46039f"
             ],
             [
              0.2222222222222222,
              "#7201a8"
             ],
             [
              0.3333333333333333,
              "#9c179e"
             ],
             [
              0.4444444444444444,
              "#bd3786"
             ],
             [
              0.5555555555555556,
              "#d8576b"
             ],
             [
              0.6666666666666666,
              "#ed7953"
             ],
             [
              0.7777777777777778,
              "#fb9f3a"
             ],
             [
              0.8888888888888888,
              "#fdca26"
             ],
             [
              1,
              "#f0f921"
             ]
            ],
            "type": "histogram2d"
           }
          ],
          "histogram2dcontour": [
           {
            "colorbar": {
             "outlinewidth": 0,
             "ticks": ""
            },
            "colorscale": [
             [
              0,
              "#0d0887"
             ],
             [
              0.1111111111111111,
              "#46039f"
             ],
             [
              0.2222222222222222,
              "#7201a8"
             ],
             [
              0.3333333333333333,
              "#9c179e"
             ],
             [
              0.4444444444444444,
              "#bd3786"
             ],
             [
              0.5555555555555556,
              "#d8576b"
             ],
             [
              0.6666666666666666,
              "#ed7953"
             ],
             [
              0.7777777777777778,
              "#fb9f3a"
             ],
             [
              0.8888888888888888,
              "#fdca26"
             ],
             [
              1,
              "#f0f921"
             ]
            ],
            "type": "histogram2dcontour"
           }
          ],
          "mesh3d": [
           {
            "colorbar": {
             "outlinewidth": 0,
             "ticks": ""
            },
            "type": "mesh3d"
           }
          ],
          "parcoords": [
           {
            "line": {
             "colorbar": {
              "outlinewidth": 0,
              "ticks": ""
             }
            },
            "type": "parcoords"
           }
          ],
          "pie": [
           {
            "automargin": true,
            "type": "pie"
           }
          ],
          "scatter": [
           {
            "fillpattern": {
             "fillmode": "overlay",
             "size": 10,
             "solidity": 0.2
            },
            "type": "scatter"
           }
          ],
          "scatter3d": [
           {
            "line": {
             "colorbar": {
              "outlinewidth": 0,
              "ticks": ""
             }
            },
            "marker": {
             "colorbar": {
              "outlinewidth": 0,
              "ticks": ""
             }
            },
            "type": "scatter3d"
           }
          ],
          "scattercarpet": [
           {
            "marker": {
             "colorbar": {
              "outlinewidth": 0,
              "ticks": ""
             }
            },
            "type": "scattercarpet"
           }
          ],
          "scattergeo": [
           {
            "marker": {
             "colorbar": {
              "outlinewidth": 0,
              "ticks": ""
             }
            },
            "type": "scattergeo"
           }
          ],
          "scattergl": [
           {
            "marker": {
             "colorbar": {
              "outlinewidth": 0,
              "ticks": ""
             }
            },
            "type": "scattergl"
           }
          ],
          "scattermapbox": [
           {
            "marker": {
             "colorbar": {
              "outlinewidth": 0,
              "ticks": ""
             }
            },
            "type": "scattermapbox"
           }
          ],
          "scatterpolar": [
           {
            "marker": {
             "colorbar": {
              "outlinewidth": 0,
              "ticks": ""
             }
            },
            "type": "scatterpolar"
           }
          ],
          "scatterpolargl": [
           {
            "marker": {
             "colorbar": {
              "outlinewidth": 0,
              "ticks": ""
             }
            },
            "type": "scatterpolargl"
           }
          ],
          "scatterternary": [
           {
            "marker": {
             "colorbar": {
              "outlinewidth": 0,
              "ticks": ""
             }
            },
            "type": "scatterternary"
           }
          ],
          "surface": [
           {
            "colorbar": {
             "outlinewidth": 0,
             "ticks": ""
            },
            "colorscale": [
             [
              0,
              "#0d0887"
             ],
             [
              0.1111111111111111,
              "#46039f"
             ],
             [
              0.2222222222222222,
              "#7201a8"
             ],
             [
              0.3333333333333333,
              "#9c179e"
             ],
             [
              0.4444444444444444,
              "#bd3786"
             ],
             [
              0.5555555555555556,
              "#d8576b"
             ],
             [
              0.6666666666666666,
              "#ed7953"
             ],
             [
              0.7777777777777778,
              "#fb9f3a"
             ],
             [
              0.8888888888888888,
              "#fdca26"
             ],
             [
              1,
              "#f0f921"
             ]
            ],
            "type": "surface"
           }
          ],
          "table": [
           {
            "cells": {
             "fill": {
              "color": "#EBF0F8"
             },
             "line": {
              "color": "white"
             }
            },
            "header": {
             "fill": {
              "color": "#C8D4E3"
             },
             "line": {
              "color": "white"
             }
            },
            "type": "table"
           }
          ]
         },
         "layout": {
          "annotationdefaults": {
           "arrowcolor": "#2a3f5f",
           "arrowhead": 0,
           "arrowwidth": 1
          },
          "autotypenumbers": "strict",
          "coloraxis": {
           "colorbar": {
            "outlinewidth": 0,
            "ticks": ""
           }
          },
          "colorscale": {
           "diverging": [
            [
             0,
             "#8e0152"
            ],
            [
             0.1,
             "#c51b7d"
            ],
            [
             0.2,
             "#de77ae"
            ],
            [
             0.3,
             "#f1b6da"
            ],
            [
             0.4,
             "#fde0ef"
            ],
            [
             0.5,
             "#f7f7f7"
            ],
            [
             0.6,
             "#e6f5d0"
            ],
            [
             0.7,
             "#b8e186"
            ],
            [
             0.8,
             "#7fbc41"
            ],
            [
             0.9,
             "#4d9221"
            ],
            [
             1,
             "#276419"
            ]
           ],
           "sequential": [
            [
             0,
             "#0d0887"
            ],
            [
             0.1111111111111111,
             "#46039f"
            ],
            [
             0.2222222222222222,
             "#7201a8"
            ],
            [
             0.3333333333333333,
             "#9c179e"
            ],
            [
             0.4444444444444444,
             "#bd3786"
            ],
            [
             0.5555555555555556,
             "#d8576b"
            ],
            [
             0.6666666666666666,
             "#ed7953"
            ],
            [
             0.7777777777777778,
             "#fb9f3a"
            ],
            [
             0.8888888888888888,
             "#fdca26"
            ],
            [
             1,
             "#f0f921"
            ]
           ],
           "sequentialminus": [
            [
             0,
             "#0d0887"
            ],
            [
             0.1111111111111111,
             "#46039f"
            ],
            [
             0.2222222222222222,
             "#7201a8"
            ],
            [
             0.3333333333333333,
             "#9c179e"
            ],
            [
             0.4444444444444444,
             "#bd3786"
            ],
            [
             0.5555555555555556,
             "#d8576b"
            ],
            [
             0.6666666666666666,
             "#ed7953"
            ],
            [
             0.7777777777777778,
             "#fb9f3a"
            ],
            [
             0.8888888888888888,
             "#fdca26"
            ],
            [
             1,
             "#f0f921"
            ]
           ]
          },
          "colorway": [
           "#636efa",
           "#EF553B",
           "#00cc96",
           "#ab63fa",
           "#FFA15A",
           "#19d3f3",
           "#FF6692",
           "#B6E880",
           "#FF97FF",
           "#FECB52"
          ],
          "font": {
           "color": "#2a3f5f"
          },
          "geo": {
           "bgcolor": "white",
           "lakecolor": "white",
           "landcolor": "#E5ECF6",
           "showlakes": true,
           "showland": true,
           "subunitcolor": "white"
          },
          "hoverlabel": {
           "align": "left"
          },
          "hovermode": "closest",
          "mapbox": {
           "style": "light"
          },
          "paper_bgcolor": "white",
          "plot_bgcolor": "#E5ECF6",
          "polar": {
           "angularaxis": {
            "gridcolor": "white",
            "linecolor": "white",
            "ticks": ""
           },
           "bgcolor": "#E5ECF6",
           "radialaxis": {
            "gridcolor": "white",
            "linecolor": "white",
            "ticks": ""
           }
          },
          "scene": {
           "xaxis": {
            "backgroundcolor": "#E5ECF6",
            "gridcolor": "white",
            "gridwidth": 2,
            "linecolor": "white",
            "showbackground": true,
            "ticks": "",
            "zerolinecolor": "white"
           },
           "yaxis": {
            "backgroundcolor": "#E5ECF6",
            "gridcolor": "white",
            "gridwidth": 2,
            "linecolor": "white",
            "showbackground": true,
            "ticks": "",
            "zerolinecolor": "white"
           },
           "zaxis": {
            "backgroundcolor": "#E5ECF6",
            "gridcolor": "white",
            "gridwidth": 2,
            "linecolor": "white",
            "showbackground": true,
            "ticks": "",
            "zerolinecolor": "white"
           }
          },
          "shapedefaults": {
           "line": {
            "color": "#2a3f5f"
           }
          },
          "ternary": {
           "aaxis": {
            "gridcolor": "white",
            "linecolor": "white",
            "ticks": ""
           },
           "baxis": {
            "gridcolor": "white",
            "linecolor": "white",
            "ticks": ""
           },
           "bgcolor": "#E5ECF6",
           "caxis": {
            "gridcolor": "white",
            "linecolor": "white",
            "ticks": ""
           }
          },
          "title": {
           "x": 0.05
          },
          "xaxis": {
           "automargin": true,
           "gridcolor": "white",
           "linecolor": "white",
           "ticks": "",
           "title": {
            "standoff": 15
           },
           "zerolinecolor": "white",
           "zerolinewidth": 2
          },
          "yaxis": {
           "automargin": true,
           "gridcolor": "white",
           "linecolor": "white",
           "ticks": "",
           "title": {
            "standoff": 15
           },
           "zerolinecolor": "white",
           "zerolinewidth": 2
          }
         }
        },
        "width": 500,
        "xaxis": {
         "tickangle": 30,
         "title": {
          "text": "Countries"
         }
        },
        "yaxis": {
         "range": [
          0,
          2500
         ]
        }
       }
      }
     },
     "metadata": {},
     "output_type": "display_data"
    }
   ],
   "source": [
    "subset_data = AVG_HRS[28:42]\n",
    "\n",
    "trace1 = go.Bar(\n",
    "    x=subset_data['Country'],\n",
    "    y=subset_data['Value'],\n",
    "    marker=dict(\n",
    "        color='rgb(55, 83, 109)'  \n",
    "    )\n",
    ")\n",
    "\n",
    "data = [trace1]\n",
    "layout = go.Layout(\n",
    "    #title='2022 Average hours worked top countries',\n",
    "    xaxis=dict(title='Countries', tickangle=30),\n",
    "    yaxis=dict(range=[0,2500]),\n",
    "    autosize=False,  \n",
    "    width=500,  \n",
    "    height=350, \n",
    "    margin=go.layout.Margin(\n",
    "        l=50, \n",
    "        r=20, \n",
    "        b=50, \n",
    "        t=50  \n",
    "    )\n",
    ")\n",
    "\n",
    "fig = go.Figure(data=data, layout=layout)\n",
    "\n",
    "fig.show()"
   ]
  }
 ],
 "metadata": {
  "kernelspec": {
   "display_name": "eda_env",
   "language": "python",
   "name": "python3"
  },
  "language_info": {
   "codemirror_mode": {
    "name": "ipython",
    "version": 3
   },
   "file_extension": ".py",
   "mimetype": "text/x-python",
   "name": "python",
   "nbconvert_exporter": "python",
   "pygments_lexer": "ipython3",
   "version": "3.9.18"
  }
 },
 "nbformat": 4,
 "nbformat_minor": 2
}
